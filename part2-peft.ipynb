{
 "cells": [
  {
   "cell_type": "markdown",
   "metadata": {},
   "source": [
    "# IndoML 2023 Tuturial: Part 2\n",
    "## At Sesame street\n",
    "\n",
    "### Plan:\n",
    "\n",
    "1. We will use Huggingface transformers for finetuning pretrained models.\n",
    "2. This will allow us to easily swap out models to find the most suitable one.\n",
    "    * This is achieved using the `AutoModel*` and `AutoTokenizer` classes.\n",
    "3. It also comes with various new libraries integrated for efficient fine-tuning, \n",
    "multi-gpu or distributed training, and more.\n",
    "\n",
    "### Methods that we will try:\n",
    "\n",
    "1. DistilBERT\n",
    "2. mBERT/distilmBERT (multilingual)\n",
    "3. XLM-RoBERTa (multilingual)\n",
    "4. DeBERTa (multilingual)\n",
    "\n",
    "### Efficient Training\n",
    "\n",
    "1. Linear Probing\n",
    "2. PEFT\n",
    "3. Distilled Models\n",
    "\n",
    "### Libraries to explore\n",
    "\n",
    "1. 🤗 Transfomers > Trainer\n",
    "2. 🤗 Evaluate\n",
    "2. wandb"
   ]
  },
  {
   "cell_type": "markdown",
   "metadata": {},
   "source": [
    "## Load `dataset`"
   ]
  },
  {
   "cell_type": "code",
   "execution_count": 1,
   "metadata": {},
   "outputs": [
    {
     "name": "stderr",
     "output_type": "stream",
     "text": [
      "/home/bsantra/miniconda3/envs/py38/lib/python3.8/site-packages/tqdm/auto.py:22: TqdmWarning: IProgress not found. Please update jupyter and ipywidgets. See https://ipywidgets.readthedocs.io/en/stable/user_install.html\n",
      "  from .autonotebook import tqdm as notebook_tqdm\n",
      "2023-08-24 23:35:30.616067: I tensorflow/core/platform/cpu_feature_guard.cc:182] This TensorFlow binary is optimized to use available CPU instructions in performance-critical operations.\n",
      "To enable the following instructions: AVX2 FMA, in other operations, rebuild TensorFlow with the appropriate compiler flags.\n",
      "2023-08-24 23:35:31.301279: W tensorflow/compiler/tf2tensorrt/utils/py_utils.cc:38] TF-TRT Warning: Could not find TensorRT\n"
     ]
    }
   ],
   "source": [
    "from tqdm import tqdm\n",
    "from datasets import load_dataset\n",
    "from transformers import AutoTokenizer, DataCollatorWithPadding\n",
    "\n",
    "tqdm.pandas()\n",
    "\n",
    "dataset = load_dataset(\"AmazonScience/massive\")\n"
   ]
  },
  {
   "cell_type": "markdown",
   "metadata": {},
   "source": [
    "## Load `AutoTokenizer`"
   ]
  },
  {
   "cell_type": "code",
   "execution_count": 2,
   "metadata": {},
   "outputs": [],
   "source": [
    "checkpoint = \"distilbert-base-uncased\"\n",
    "tokenizer = AutoTokenizer.from_pretrained(checkpoint)\n",
    "\n",
    "\n",
    "def tokenize_function(example):\n",
    "    return tokenizer(example[\"utt\"], truncation=True)\n",
    "\n"
   ]
  },
  {
   "cell_type": "markdown",
   "metadata": {},
   "source": [
    "## Preprocessing\n",
    "\n",
    "### Using the Trainer class\n",
    "\n",
    "We will be using the HF Trainer class to handle a lot of the boilerplate tasks. This Trainer class expects certain format for the dataset.\n",
    "\n",
    "1. Tokenize the dataset\n",
    "2. A \"labels\" column should exits"
   ]
  },
  {
   "cell_type": "code",
   "execution_count": 3,
   "metadata": {},
   "outputs": [],
   "source": [
    "tokenized_datasets = dataset.map(tokenize_function, batched=True)"
   ]
  },
  {
   "cell_type": "code",
   "execution_count": 4,
   "metadata": {},
   "outputs": [],
   "source": [
    "data_collator = DataCollatorWithPadding(tokenizer=tokenizer)"
   ]
  },
  {
   "cell_type": "code",
   "execution_count": 5,
   "metadata": {},
   "outputs": [
    {
     "data": {
      "text/plain": [
       "dict_keys(['id', 'locale', 'partition', 'scenario', 'intent', 'utt', 'annot_utt', 'worker_id', 'slot_method', 'judgments', 'input_ids', 'attention_mask'])"
      ]
     },
     "execution_count": 5,
     "metadata": {},
     "output_type": "execute_result"
    }
   ],
   "source": [
    "tokenized_datasets['train'][0].keys()"
   ]
  },
  {
   "cell_type": "code",
   "execution_count": 6,
   "metadata": {},
   "outputs": [],
   "source": [
    "# Remove columns that are not needed\n",
    "to_remove = list(tokenized_datasets['train'][0].keys())\n",
    "\n",
    "# Don't remove these columns\n",
    "to_remove.remove('input_ids')\n",
    "to_remove.remove('attention_mask')\n",
    "to_remove.remove('intent')\n",
    "\n",
    "tokenized_datasets = tokenized_datasets.remove_columns(to_remove)\n",
    "tokenized_datasets = tokenized_datasets.rename_column('intent', 'labels')\n"
   ]
  },
  {
   "cell_type": "code",
   "execution_count": 7,
   "metadata": {},
   "outputs": [
    {
     "data": {
      "text/plain": [
       "{'labels': ClassLabel(names=['datetime_query', 'iot_hue_lightchange', 'transport_ticket', 'takeaway_query', 'qa_stock', 'general_greet', 'recommendation_events', 'music_dislikeness', 'iot_wemo_off', 'cooking_recipe', 'qa_currency', 'transport_traffic', 'general_quirky', 'weather_query', 'audio_volume_up', 'email_addcontact', 'takeaway_order', 'email_querycontact', 'iot_hue_lightup', 'recommendation_locations', 'play_audiobook', 'lists_createoradd', 'news_query', 'alarm_query', 'iot_wemo_on', 'general_joke', 'qa_definition', 'social_query', 'music_settings', 'audio_volume_other', 'calendar_remove', 'iot_hue_lightdim', 'calendar_query', 'email_sendemail', 'iot_cleaning', 'audio_volume_down', 'play_radio', 'cooking_query', 'datetime_convert', 'qa_maths', 'iot_hue_lightoff', 'iot_hue_lighton', 'transport_query', 'music_likeness', 'email_query', 'play_music', 'audio_volume_mute', 'social_post', 'alarm_set', 'qa_factoid', 'calendar_set', 'play_game', 'alarm_remove', 'lists_remove', 'transport_taxi', 'recommendation_movies', 'iot_coffee', 'music_query', 'play_podcasts', 'lists_query'], id=None),\n",
       " 'input_ids': Sequence(feature=Value(dtype='int32', id=None), length=-1, id=None),\n",
       " 'attention_mask': Sequence(feature=Value(dtype='int8', id=None), length=-1, id=None)}"
      ]
     },
     "execution_count": 7,
     "metadata": {},
     "output_type": "execute_result"
    }
   ],
   "source": [
    "tokenized_datasets['train'].features"
   ]
  },
  {
   "cell_type": "code",
   "execution_count": null,
   "metadata": {},
   "outputs": [],
   "source": []
  },
  {
   "cell_type": "markdown",
   "metadata": {},
   "source": [
    "## Dataloaders [Optional]\n",
    "\n",
    "- Instead of going through individual samples in the dataset, we would like to \n",
    "batches of samples to train our model. \n",
    "- Dataloader\n",
    "    1. Creates an \"iterator\" over the dataset, which returns a batch of samples every turn\n",
    "    2. Handles shuffling\n",
    "    3. Collates samples into batches, by padding the input sequences to the maximum length in the batch"
   ]
  },
  {
   "cell_type": "code",
   "execution_count": 8,
   "metadata": {},
   "outputs": [],
   "source": [
    "# from torch.utils.data import DataLoader\n",
    "\n",
    "# train_dataloader = DataLoader(\n",
    "#     tokenized_datasets[\"train\"], shuffle=True, batch_size=8, collate_fn=data_collator\n",
    "# )\n",
    "# eval_dataloader = DataLoader(\n",
    "#     tokenized_datasets[\"validation\"], batch_size=8, collate_fn=data_collator\n",
    "# )"
   ]
  },
  {
   "cell_type": "code",
   "execution_count": 9,
   "metadata": {},
   "outputs": [],
   "source": [
    "# Check the shape of the tensors\n",
    "# for batch in tqdm(train_dataloader):\n",
    "#     break\n",
    "# {k: v.shape for k, v in batch.items()}"
   ]
  },
  {
   "cell_type": "markdown",
   "metadata": {},
   "source": [
    "```python\n",
    "{'labels': torch.Size([8]),\n",
    " 'input_ids': torch.Size([8, 25]),\n",
    " 'attention_mask': torch.Size([8, 25])}\n",
    "```"
   ]
  },
  {
   "cell_type": "markdown",
   "metadata": {},
   "source": [
    "## Load model using an `AutoModel`"
   ]
  },
  {
   "cell_type": "code",
   "execution_count": 10,
   "metadata": {},
   "outputs": [
    {
     "name": "stderr",
     "output_type": "stream",
     "text": [
      "Some weights of the model checkpoint at distilbert-base-uncased were not used when initializing DistilBertForSequenceClassification: ['vocab_transform.bias', 'vocab_projector.bias', 'vocab_layer_norm.weight', 'vocab_transform.weight', 'vocab_layer_norm.bias']\n",
      "- This IS expected if you are initializing DistilBertForSequenceClassification from the checkpoint of a model trained on another task or with another architecture (e.g. initializing a BertForSequenceClassification model from a BertForPreTraining model).\n",
      "- This IS NOT expected if you are initializing DistilBertForSequenceClassification from the checkpoint of a model that you expect to be exactly identical (initializing a BertForSequenceClassification model from a BertForSequenceClassification model).\n",
      "Some weights of DistilBertForSequenceClassification were not initialized from the model checkpoint at distilbert-base-uncased and are newly initialized: ['classifier.weight', 'classifier.bias', 'pre_classifier.bias', 'pre_classifier.weight']\n",
      "You should probably TRAIN this model on a down-stream task to be able to use it for predictions and inference.\n"
     ]
    }
   ],
   "source": [
    "from transformers import AutoModelForSequenceClassification\n",
    "\n",
    "model = AutoModelForSequenceClassification.from_pretrained(checkpoint, num_labels=tokenized_datasets['train'].features['labels'].num_classes)"
   ]
  },
  {
   "cell_type": "code",
   "execution_count": 11,
   "metadata": {},
   "outputs": [
    {
     "data": {
      "text/plain": [
       "DistilBertForSequenceClassification(\n",
       "  (distilbert): DistilBertModel(\n",
       "    (embeddings): Embeddings(\n",
       "      (word_embeddings): Embedding(30522, 768, padding_idx=0)\n",
       "      (position_embeddings): Embedding(512, 768)\n",
       "      (LayerNorm): LayerNorm((768,), eps=1e-12, elementwise_affine=True)\n",
       "      (dropout): Dropout(p=0.1, inplace=False)\n",
       "    )\n",
       "    (transformer): Transformer(\n",
       "      (layer): ModuleList(\n",
       "        (0-5): 6 x TransformerBlock(\n",
       "          (attention): MultiHeadSelfAttention(\n",
       "            (dropout): Dropout(p=0.1, inplace=False)\n",
       "            (q_lin): Linear(in_features=768, out_features=768, bias=True)\n",
       "            (k_lin): Linear(in_features=768, out_features=768, bias=True)\n",
       "            (v_lin): Linear(in_features=768, out_features=768, bias=True)\n",
       "            (out_lin): Linear(in_features=768, out_features=768, bias=True)\n",
       "          )\n",
       "          (sa_layer_norm): LayerNorm((768,), eps=1e-12, elementwise_affine=True)\n",
       "          (ffn): FFN(\n",
       "            (dropout): Dropout(p=0.1, inplace=False)\n",
       "            (lin1): Linear(in_features=768, out_features=3072, bias=True)\n",
       "            (lin2): Linear(in_features=3072, out_features=768, bias=True)\n",
       "            (activation): GELUActivation()\n",
       "          )\n",
       "          (output_layer_norm): LayerNorm((768,), eps=1e-12, elementwise_affine=True)\n",
       "        )\n",
       "      )\n",
       "    )\n",
       "  )\n",
       "  (pre_classifier): Linear(in_features=768, out_features=768, bias=True)\n",
       "  (classifier): Linear(in_features=768, out_features=60, bias=True)\n",
       "  (dropout): Dropout(p=0.2, inplace=False)\n",
       ")"
      ]
     },
     "execution_count": 11,
     "metadata": {},
     "output_type": "execute_result"
    }
   ],
   "source": [
    "model"
   ]
  },
  {
   "cell_type": "code",
   "execution_count": 12,
   "metadata": {},
   "outputs": [
    {
     "name": "stdout",
     "output_type": "stream",
     "text": [
      "trainable params: 1,938,936 || all params: 68,301,816 || trainable%: 2.838776643947505\n"
     ]
    }
   ],
   "source": [
    "from peft import get_peft_config, get_peft_model, LoraConfig, TaskType\n",
    "\n",
    "peft_config = LoraConfig(\n",
    "    task_type=TaskType.SEQ_CLS, \n",
    "    inference_mode=False, \n",
    "    r=16, \n",
    "    lora_alpha=16, \n",
    "    lora_dropout=0.1, \n",
    "    bias=\"none\", \n",
    "    target_modules=[\"q_lin\", \"k_lin\", \"v_lin\", \"out_lin\", \"pre_classifier\", \"lin_1\", \"lin_2\", \"classifier\"]\n",
    ")\n",
    "\n",
    "# model = AutoModelForSeq2SeqLM.from_pretrained(model_name_or_path)\n",
    "model = get_peft_model(model, peft_config)\n",
    "model.print_trainable_parameters()"
   ]
  },
  {
   "cell_type": "code",
   "execution_count": 13,
   "metadata": {},
   "outputs": [
    {
     "data": {
      "text/plain": [
       "{'classifier', 'score'}"
      ]
     },
     "execution_count": 13,
     "metadata": {},
     "output_type": "execute_result"
    }
   ],
   "source": [
    "model.modules_to_save"
   ]
  },
  {
   "cell_type": "code",
   "execution_count": 14,
   "metadata": {},
   "outputs": [],
   "source": [
    "# # Let's check the output of a single forward pass\n",
    "# outputs = model(**batch)\n",
    "# print(outputs.loss, outputs.logits.shape)"
   ]
  },
  {
   "cell_type": "markdown",
   "metadata": {},
   "source": [
    "## Setup Evaluation Metric"
   ]
  },
  {
   "cell_type": "code",
   "execution_count": 15,
   "metadata": {},
   "outputs": [],
   "source": [
    "import numpy as np\n",
    "import evaluate\n",
    "\n",
    "metric = evaluate.load(\"accuracy\")"
   ]
  },
  {
   "cell_type": "code",
   "execution_count": 16,
   "metadata": {},
   "outputs": [],
   "source": [
    "# We need to define a compute_metric function that is supported by the Trainer output\n",
    "# It basically converts the logits to predictions and then calls the metric\n",
    "def compute_metrics(eval_pred):\n",
    "    logits, labels = eval_pred\n",
    "    predictions = np.argmax(logits, axis=-1)\n",
    "    return metric.compute(predictions=predictions, references=labels)"
   ]
  },
  {
   "cell_type": "markdown",
   "metadata": {},
   "source": [
    "## Setup Trainer and Finetuning\n",
    "\n",
    "1. When testing your code for the first time, it is a better idea to use a smaller dataset,\n",
    "so that you can quickly iterate over your code.\n",
    "2. We have done the same here by using 128 + 32 samples from the dataset, for training and validation respectively."
   ]
  },
  {
   "cell_type": "code",
   "execution_count": 17,
   "metadata": {},
   "outputs": [],
   "source": [
    "train_data_subset = tokenized_datasets[\"train\"] # .select(range(40960))\n",
    "eval_data_subset = tokenized_datasets[\"validation\"] #.select(range(2096))"
   ]
  },
  {
   "cell_type": "code",
   "execution_count": 18,
   "metadata": {},
   "outputs": [],
   "source": [
    "from transformers import TrainingArguments\n",
    "eval_steps = 5000\n",
    "training_args = TrainingArguments(\n",
    "    output_dir=\"./results\",\n",
    "    num_train_epochs=10,\n",
    "    per_device_train_batch_size=32,\n",
    "    per_device_eval_batch_size=32,\n",
    "    # warmup_steps=500,\n",
    "    # weight_decay=0.01,\n",
    "    logging_dir=\"./logs\",\n",
    "    logging_steps=10,\n",
    "    evaluation_strategy=\"steps\",\n",
    "    save_strategy=\"steps\",\n",
    "    save_steps=eval_steps,\n",
    "    eval_steps=eval_steps,\n",
    "    load_best_model_at_end=True,\n",
    "    metric_for_best_model=\"accuracy\",\n",
    "    greater_is_better=True,\n",
    "    report_to=\"none\" # set \"wandb\" here to log to wandb\n",
    ")"
   ]
  },
  {
   "cell_type": "markdown",
   "metadata": {},
   "source": [
    "**Wandb Logging**\n",
    "\n",
    "When training ML models, keeping track of various hyperparameters, the training and validation losses, and evaluation metrics is very important.\n",
    "`wandb` can help you here.\n",
    "\n",
    "To install wandb, run following commands in your terminal:\n",
    "\n",
    "```bash\n",
    "pip install wandb\n",
    "# Then login to your wandb account\n",
    "wandb login\n",
    "```\n",
    "\n",
    "Once, that is done, in TrainingArguments, set the `report_to` argument to `wandb`."
   ]
  },
  {
   "cell_type": "code",
   "execution_count": 19,
   "metadata": {},
   "outputs": [],
   "source": [
    "from transformers import Trainer\n",
    "\n",
    "trainer = Trainer(\n",
    "    model,\n",
    "    training_args,\n",
    "    # train_dataset=tokenized_datasets[\"train\"],\n",
    "    # eval_dataset=tokenized_datasets[\"validation\"],\n",
    "    train_dataset=train_data_subset, # Using the smaller subsets\n",
    "    eval_dataset=eval_data_subset,\n",
    "    data_collator=data_collator,\n",
    "    tokenizer=tokenizer,\n",
    "    compute_metrics=compute_metrics,\n",
    ")"
   ]
  },
  {
   "cell_type": "code",
   "execution_count": 20,
   "metadata": {},
   "outputs": [
    {
     "name": "stderr",
     "output_type": "stream",
     "text": [
      "/home/bsantra/miniconda3/envs/py38/lib/python3.8/site-packages/transformers/optimization.py:306: FutureWarning: This implementation of AdamW is deprecated and will be removed in a future version. Use the PyTorch implementation torch.optim.AdamW instead, or set `no_deprecation_warning=True` to disable this warning\n",
      "  warnings.warn(\n",
      "***** Running training *****\n",
      "  Num examples = 587214\n",
      "  Num Epochs = 10\n",
      "  Instantaneous batch size per device = 32\n",
      "  Total train batch size (w. parallel, distributed & accumulation) = 32\n",
      "  Gradient Accumulation steps = 1\n",
      "  Total optimization steps = 183510\n",
      "  Number of trainable parameters = 1938936\n",
      "You're using a DistilBertTokenizerFast tokenizer. Please note that with a fast tokenizer, using the `__call__` method is faster than using a method to encode the text followed by a call to the `pad` method to get a padded encoding.\n"
     ]
    },
    {
     "data": {
      "text/html": [
       "\n",
       "    <div>\n",
       "      \n",
       "      <progress value='183510' max='183510' style='width:300px; height:20px; vertical-align: middle;'></progress>\n",
       "      [183510/183510 3:36:19, Epoch 10/10]\n",
       "    </div>\n",
       "    <table border=\"1\" class=\"dataframe\">\n",
       "  <thead>\n",
       " <tr style=\"text-align: left;\">\n",
       "      <th>Step</th>\n",
       "      <th>Training Loss</th>\n",
       "      <th>Validation Loss</th>\n",
       "      <th>Accuracy</th>\n",
       "    </tr>\n",
       "  </thead>\n",
       "  <tbody>\n",
       "    <tr>\n",
       "      <td>5000</td>\n",
       "      <td>3.061800</td>\n",
       "      <td>2.989049</td>\n",
       "      <td>0.240136</td>\n",
       "    </tr>\n",
       "    <tr>\n",
       "      <td>10000</td>\n",
       "      <td>2.868800</td>\n",
       "      <td>2.724851</td>\n",
       "      <td>0.297397</td>\n",
       "    </tr>\n",
       "    <tr>\n",
       "      <td>15000</td>\n",
       "      <td>2.515100</td>\n",
       "      <td>2.561487</td>\n",
       "      <td>0.337056</td>\n",
       "    </tr>\n",
       "    <tr>\n",
       "      <td>20000</td>\n",
       "      <td>2.564900</td>\n",
       "      <td>2.436521</td>\n",
       "      <td>0.366888</td>\n",
       "    </tr>\n",
       "    <tr>\n",
       "      <td>25000</td>\n",
       "      <td>2.352200</td>\n",
       "      <td>2.337301</td>\n",
       "      <td>0.389775</td>\n",
       "    </tr>\n",
       "    <tr>\n",
       "      <td>30000</td>\n",
       "      <td>2.303500</td>\n",
       "      <td>2.257695</td>\n",
       "      <td>0.408842</td>\n",
       "    </tr>\n",
       "    <tr>\n",
       "      <td>35000</td>\n",
       "      <td>2.420500</td>\n",
       "      <td>2.183853</td>\n",
       "      <td>0.428479</td>\n",
       "    </tr>\n",
       "    <tr>\n",
       "      <td>40000</td>\n",
       "      <td>2.110200</td>\n",
       "      <td>2.137819</td>\n",
       "      <td>0.439339</td>\n",
       "    </tr>\n",
       "    <tr>\n",
       "      <td>45000</td>\n",
       "      <td>2.229300</td>\n",
       "      <td>2.089926</td>\n",
       "      <td>0.451617</td>\n",
       "    </tr>\n",
       "    <tr>\n",
       "      <td>50000</td>\n",
       "      <td>2.277800</td>\n",
       "      <td>2.039838</td>\n",
       "      <td>0.466267</td>\n",
       "    </tr>\n",
       "    <tr>\n",
       "      <td>55000</td>\n",
       "      <td>1.989200</td>\n",
       "      <td>2.014598</td>\n",
       "      <td>0.470463</td>\n",
       "    </tr>\n",
       "    <tr>\n",
       "      <td>60000</td>\n",
       "      <td>2.089900</td>\n",
       "      <td>1.984705</td>\n",
       "      <td>0.478458</td>\n",
       "    </tr>\n",
       "    <tr>\n",
       "      <td>65000</td>\n",
       "      <td>2.133700</td>\n",
       "      <td>1.942744</td>\n",
       "      <td>0.489444</td>\n",
       "    </tr>\n",
       "    <tr>\n",
       "      <td>70000</td>\n",
       "      <td>2.162900</td>\n",
       "      <td>1.920992</td>\n",
       "      <td>0.495308</td>\n",
       "    </tr>\n",
       "    <tr>\n",
       "      <td>75000</td>\n",
       "      <td>1.926300</td>\n",
       "      <td>1.891821</td>\n",
       "      <td>0.503622</td>\n",
       "    </tr>\n",
       "    <tr>\n",
       "      <td>80000</td>\n",
       "      <td>2.051900</td>\n",
       "      <td>1.875884</td>\n",
       "      <td>0.506158</td>\n",
       "    </tr>\n",
       "    <tr>\n",
       "      <td>85000</td>\n",
       "      <td>1.999600</td>\n",
       "      <td>1.849476</td>\n",
       "      <td>0.515735</td>\n",
       "    </tr>\n",
       "    <tr>\n",
       "      <td>90000</td>\n",
       "      <td>1.867600</td>\n",
       "      <td>1.834844</td>\n",
       "      <td>0.519690</td>\n",
       "    </tr>\n",
       "    <tr>\n",
       "      <td>95000</td>\n",
       "      <td>1.924800</td>\n",
       "      <td>1.820389</td>\n",
       "      <td>0.522313</td>\n",
       "    </tr>\n",
       "    <tr>\n",
       "      <td>100000</td>\n",
       "      <td>1.801400</td>\n",
       "      <td>1.809045</td>\n",
       "      <td>0.524734</td>\n",
       "    </tr>\n",
       "    <tr>\n",
       "      <td>105000</td>\n",
       "      <td>1.976300</td>\n",
       "      <td>1.794558</td>\n",
       "      <td>0.529826</td>\n",
       "    </tr>\n",
       "    <tr>\n",
       "      <td>110000</td>\n",
       "      <td>1.780800</td>\n",
       "      <td>1.781077</td>\n",
       "      <td>0.533385</td>\n",
       "    </tr>\n",
       "    <tr>\n",
       "      <td>115000</td>\n",
       "      <td>1.679800</td>\n",
       "      <td>1.769878</td>\n",
       "      <td>0.535083</td>\n",
       "    </tr>\n",
       "    <tr>\n",
       "      <td>120000</td>\n",
       "      <td>1.893300</td>\n",
       "      <td>1.761811</td>\n",
       "      <td>0.536395</td>\n",
       "    </tr>\n",
       "    <tr>\n",
       "      <td>125000</td>\n",
       "      <td>1.848600</td>\n",
       "      <td>1.750829</td>\n",
       "      <td>0.539847</td>\n",
       "    </tr>\n",
       "    <tr>\n",
       "      <td>130000</td>\n",
       "      <td>1.809200</td>\n",
       "      <td>1.745632</td>\n",
       "      <td>0.542587</td>\n",
       "    </tr>\n",
       "    <tr>\n",
       "      <td>135000</td>\n",
       "      <td>1.870800</td>\n",
       "      <td>1.736633</td>\n",
       "      <td>0.542982</td>\n",
       "    </tr>\n",
       "    <tr>\n",
       "      <td>140000</td>\n",
       "      <td>1.771500</td>\n",
       "      <td>1.732014</td>\n",
       "      <td>0.546097</td>\n",
       "    </tr>\n",
       "    <tr>\n",
       "      <td>145000</td>\n",
       "      <td>1.815100</td>\n",
       "      <td>1.723341</td>\n",
       "      <td>0.547380</td>\n",
       "    </tr>\n",
       "    <tr>\n",
       "      <td>150000</td>\n",
       "      <td>1.770500</td>\n",
       "      <td>1.720029</td>\n",
       "      <td>0.548489</td>\n",
       "    </tr>\n",
       "    <tr>\n",
       "      <td>155000</td>\n",
       "      <td>1.748000</td>\n",
       "      <td>1.712339</td>\n",
       "      <td>0.551768</td>\n",
       "    </tr>\n",
       "    <tr>\n",
       "      <td>160000</td>\n",
       "      <td>1.732400</td>\n",
       "      <td>1.712015</td>\n",
       "      <td>0.550823</td>\n",
       "    </tr>\n",
       "    <tr>\n",
       "      <td>165000</td>\n",
       "      <td>1.827300</td>\n",
       "      <td>1.707742</td>\n",
       "      <td>0.552029</td>\n",
       "    </tr>\n",
       "    <tr>\n",
       "      <td>170000</td>\n",
       "      <td>1.848200</td>\n",
       "      <td>1.706021</td>\n",
       "      <td>0.553167</td>\n",
       "    </tr>\n",
       "    <tr>\n",
       "      <td>175000</td>\n",
       "      <td>1.869800</td>\n",
       "      <td>1.701749</td>\n",
       "      <td>0.553591</td>\n",
       "    </tr>\n",
       "    <tr>\n",
       "      <td>180000</td>\n",
       "      <td>1.656400</td>\n",
       "      <td>1.701894</td>\n",
       "      <td>0.553774</td>\n",
       "    </tr>\n",
       "  </tbody>\n",
       "</table><p>"
      ],
      "text/plain": [
       "<IPython.core.display.HTML object>"
      ]
     },
     "metadata": {},
     "output_type": "display_data"
    },
    {
     "name": "stderr",
     "output_type": "stream",
     "text": [
      "***** Running Evaluation *****\n",
      "  Num examples = 103683\n",
      "  Batch size = 32\n",
      "Saving model checkpoint to ./results/checkpoint-5000\n",
      "Trainer.model is not a `PreTrainedModel`, only saving its state dict.\n",
      "tokenizer config file saved in ./results/checkpoint-5000/tokenizer_config.json\n",
      "Special tokens file saved in ./results/checkpoint-5000/special_tokens_map.json\n",
      "***** Running Evaluation *****\n",
      "  Num examples = 103683\n",
      "  Batch size = 32\n",
      "Saving model checkpoint to ./results/checkpoint-10000\n",
      "Trainer.model is not a `PreTrainedModel`, only saving its state dict.\n",
      "tokenizer config file saved in ./results/checkpoint-10000/tokenizer_config.json\n",
      "Special tokens file saved in ./results/checkpoint-10000/special_tokens_map.json\n",
      "***** Running Evaluation *****\n",
      "  Num examples = 103683\n",
      "  Batch size = 32\n",
      "Saving model checkpoint to ./results/checkpoint-15000\n",
      "Trainer.model is not a `PreTrainedModel`, only saving its state dict.\n",
      "tokenizer config file saved in ./results/checkpoint-15000/tokenizer_config.json\n",
      "Special tokens file saved in ./results/checkpoint-15000/special_tokens_map.json\n",
      "***** Running Evaluation *****\n",
      "  Num examples = 103683\n",
      "  Batch size = 32\n",
      "Saving model checkpoint to ./results/checkpoint-20000\n",
      "Trainer.model is not a `PreTrainedModel`, only saving its state dict.\n",
      "tokenizer config file saved in ./results/checkpoint-20000/tokenizer_config.json\n",
      "Special tokens file saved in ./results/checkpoint-20000/special_tokens_map.json\n",
      "***** Running Evaluation *****\n",
      "  Num examples = 103683\n",
      "  Batch size = 32\n",
      "Saving model checkpoint to ./results/checkpoint-25000\n",
      "Trainer.model is not a `PreTrainedModel`, only saving its state dict.\n",
      "tokenizer config file saved in ./results/checkpoint-25000/tokenizer_config.json\n",
      "Special tokens file saved in ./results/checkpoint-25000/special_tokens_map.json\n",
      "***** Running Evaluation *****\n",
      "  Num examples = 103683\n",
      "  Batch size = 32\n",
      "Saving model checkpoint to ./results/checkpoint-30000\n",
      "Trainer.model is not a `PreTrainedModel`, only saving its state dict.\n",
      "tokenizer config file saved in ./results/checkpoint-30000/tokenizer_config.json\n",
      "Special tokens file saved in ./results/checkpoint-30000/special_tokens_map.json\n",
      "***** Running Evaluation *****\n",
      "  Num examples = 103683\n",
      "  Batch size = 32\n",
      "Saving model checkpoint to ./results/checkpoint-35000\n",
      "Trainer.model is not a `PreTrainedModel`, only saving its state dict.\n",
      "tokenizer config file saved in ./results/checkpoint-35000/tokenizer_config.json\n",
      "Special tokens file saved in ./results/checkpoint-35000/special_tokens_map.json\n",
      "***** Running Evaluation *****\n",
      "  Num examples = 103683\n",
      "  Batch size = 32\n",
      "Saving model checkpoint to ./results/checkpoint-40000\n",
      "Trainer.model is not a `PreTrainedModel`, only saving its state dict.\n",
      "tokenizer config file saved in ./results/checkpoint-40000/tokenizer_config.json\n",
      "Special tokens file saved in ./results/checkpoint-40000/special_tokens_map.json\n",
      "***** Running Evaluation *****\n",
      "  Num examples = 103683\n",
      "  Batch size = 32\n",
      "Saving model checkpoint to ./results/checkpoint-45000\n",
      "Trainer.model is not a `PreTrainedModel`, only saving its state dict.\n",
      "tokenizer config file saved in ./results/checkpoint-45000/tokenizer_config.json\n",
      "Special tokens file saved in ./results/checkpoint-45000/special_tokens_map.json\n",
      "***** Running Evaluation *****\n",
      "  Num examples = 103683\n",
      "  Batch size = 32\n",
      "Saving model checkpoint to ./results/checkpoint-50000\n",
      "Trainer.model is not a `PreTrainedModel`, only saving its state dict.\n",
      "tokenizer config file saved in ./results/checkpoint-50000/tokenizer_config.json\n",
      "Special tokens file saved in ./results/checkpoint-50000/special_tokens_map.json\n",
      "***** Running Evaluation *****\n",
      "  Num examples = 103683\n",
      "  Batch size = 32\n",
      "Saving model checkpoint to ./results/checkpoint-55000\n",
      "Trainer.model is not a `PreTrainedModel`, only saving its state dict.\n",
      "tokenizer config file saved in ./results/checkpoint-55000/tokenizer_config.json\n",
      "Special tokens file saved in ./results/checkpoint-55000/special_tokens_map.json\n",
      "***** Running Evaluation *****\n",
      "  Num examples = 103683\n",
      "  Batch size = 32\n",
      "Saving model checkpoint to ./results/checkpoint-60000\n",
      "Trainer.model is not a `PreTrainedModel`, only saving its state dict.\n",
      "tokenizer config file saved in ./results/checkpoint-60000/tokenizer_config.json\n",
      "Special tokens file saved in ./results/checkpoint-60000/special_tokens_map.json\n",
      "***** Running Evaluation *****\n",
      "  Num examples = 103683\n",
      "  Batch size = 32\n",
      "Saving model checkpoint to ./results/checkpoint-65000\n",
      "Trainer.model is not a `PreTrainedModel`, only saving its state dict.\n",
      "tokenizer config file saved in ./results/checkpoint-65000/tokenizer_config.json\n",
      "Special tokens file saved in ./results/checkpoint-65000/special_tokens_map.json\n",
      "***** Running Evaluation *****\n",
      "  Num examples = 103683\n",
      "  Batch size = 32\n",
      "Saving model checkpoint to ./results/checkpoint-70000\n",
      "Trainer.model is not a `PreTrainedModel`, only saving its state dict.\n",
      "tokenizer config file saved in ./results/checkpoint-70000/tokenizer_config.json\n",
      "Special tokens file saved in ./results/checkpoint-70000/special_tokens_map.json\n",
      "***** Running Evaluation *****\n",
      "  Num examples = 103683\n",
      "  Batch size = 32\n",
      "Saving model checkpoint to ./results/checkpoint-75000\n",
      "Trainer.model is not a `PreTrainedModel`, only saving its state dict.\n",
      "tokenizer config file saved in ./results/checkpoint-75000/tokenizer_config.json\n",
      "Special tokens file saved in ./results/checkpoint-75000/special_tokens_map.json\n",
      "***** Running Evaluation *****\n",
      "  Num examples = 103683\n",
      "  Batch size = 32\n",
      "Saving model checkpoint to ./results/checkpoint-80000\n",
      "Trainer.model is not a `PreTrainedModel`, only saving its state dict.\n",
      "tokenizer config file saved in ./results/checkpoint-80000/tokenizer_config.json\n",
      "Special tokens file saved in ./results/checkpoint-80000/special_tokens_map.json\n",
      "***** Running Evaluation *****\n",
      "  Num examples = 103683\n",
      "  Batch size = 32\n",
      "Saving model checkpoint to ./results/checkpoint-85000\n",
      "Trainer.model is not a `PreTrainedModel`, only saving its state dict.\n",
      "tokenizer config file saved in ./results/checkpoint-85000/tokenizer_config.json\n",
      "Special tokens file saved in ./results/checkpoint-85000/special_tokens_map.json\n",
      "***** Running Evaluation *****\n",
      "  Num examples = 103683\n",
      "  Batch size = 32\n",
      "Saving model checkpoint to ./results/checkpoint-90000\n",
      "Trainer.model is not a `PreTrainedModel`, only saving its state dict.\n",
      "tokenizer config file saved in ./results/checkpoint-90000/tokenizer_config.json\n",
      "Special tokens file saved in ./results/checkpoint-90000/special_tokens_map.json\n",
      "***** Running Evaluation *****\n",
      "  Num examples = 103683\n",
      "  Batch size = 32\n",
      "Saving model checkpoint to ./results/checkpoint-95000\n",
      "Trainer.model is not a `PreTrainedModel`, only saving its state dict.\n",
      "tokenizer config file saved in ./results/checkpoint-95000/tokenizer_config.json\n",
      "Special tokens file saved in ./results/checkpoint-95000/special_tokens_map.json\n",
      "***** Running Evaluation *****\n",
      "  Num examples = 103683\n",
      "  Batch size = 32\n",
      "Saving model checkpoint to ./results/checkpoint-100000\n",
      "Trainer.model is not a `PreTrainedModel`, only saving its state dict.\n",
      "tokenizer config file saved in ./results/checkpoint-100000/tokenizer_config.json\n",
      "Special tokens file saved in ./results/checkpoint-100000/special_tokens_map.json\n",
      "***** Running Evaluation *****\n",
      "  Num examples = 103683\n",
      "  Batch size = 32\n",
      "Saving model checkpoint to ./results/checkpoint-105000\n",
      "Trainer.model is not a `PreTrainedModel`, only saving its state dict.\n",
      "tokenizer config file saved in ./results/checkpoint-105000/tokenizer_config.json\n",
      "Special tokens file saved in ./results/checkpoint-105000/special_tokens_map.json\n",
      "***** Running Evaluation *****\n",
      "  Num examples = 103683\n",
      "  Batch size = 32\n",
      "Saving model checkpoint to ./results/checkpoint-110000\n",
      "Trainer.model is not a `PreTrainedModel`, only saving its state dict.\n",
      "tokenizer config file saved in ./results/checkpoint-110000/tokenizer_config.json\n",
      "Special tokens file saved in ./results/checkpoint-110000/special_tokens_map.json\n",
      "***** Running Evaluation *****\n",
      "  Num examples = 103683\n",
      "  Batch size = 32\n",
      "Saving model checkpoint to ./results/checkpoint-115000\n",
      "Trainer.model is not a `PreTrainedModel`, only saving its state dict.\n",
      "tokenizer config file saved in ./results/checkpoint-115000/tokenizer_config.json\n",
      "Special tokens file saved in ./results/checkpoint-115000/special_tokens_map.json\n",
      "***** Running Evaluation *****\n",
      "  Num examples = 103683\n",
      "  Batch size = 32\n",
      "Saving model checkpoint to ./results/checkpoint-120000\n",
      "Trainer.model is not a `PreTrainedModel`, only saving its state dict.\n",
      "tokenizer config file saved in ./results/checkpoint-120000/tokenizer_config.json\n",
      "Special tokens file saved in ./results/checkpoint-120000/special_tokens_map.json\n",
      "***** Running Evaluation *****\n",
      "  Num examples = 103683\n",
      "  Batch size = 32\n",
      "Saving model checkpoint to ./results/checkpoint-125000\n",
      "Trainer.model is not a `PreTrainedModel`, only saving its state dict.\n",
      "tokenizer config file saved in ./results/checkpoint-125000/tokenizer_config.json\n",
      "Special tokens file saved in ./results/checkpoint-125000/special_tokens_map.json\n",
      "***** Running Evaluation *****\n",
      "  Num examples = 103683\n",
      "  Batch size = 32\n",
      "Saving model checkpoint to ./results/checkpoint-130000\n",
      "Trainer.model is not a `PreTrainedModel`, only saving its state dict.\n",
      "tokenizer config file saved in ./results/checkpoint-130000/tokenizer_config.json\n",
      "Special tokens file saved in ./results/checkpoint-130000/special_tokens_map.json\n",
      "***** Running Evaluation *****\n",
      "  Num examples = 103683\n",
      "  Batch size = 32\n",
      "Saving model checkpoint to ./results/checkpoint-135000\n",
      "Trainer.model is not a `PreTrainedModel`, only saving its state dict.\n",
      "tokenizer config file saved in ./results/checkpoint-135000/tokenizer_config.json\n",
      "Special tokens file saved in ./results/checkpoint-135000/special_tokens_map.json\n",
      "***** Running Evaluation *****\n",
      "  Num examples = 103683\n",
      "  Batch size = 32\n",
      "Saving model checkpoint to ./results/checkpoint-140000\n",
      "Trainer.model is not a `PreTrainedModel`, only saving its state dict.\n",
      "tokenizer config file saved in ./results/checkpoint-140000/tokenizer_config.json\n",
      "Special tokens file saved in ./results/checkpoint-140000/special_tokens_map.json\n",
      "***** Running Evaluation *****\n",
      "  Num examples = 103683\n",
      "  Batch size = 32\n",
      "Saving model checkpoint to ./results/checkpoint-145000\n",
      "Trainer.model is not a `PreTrainedModel`, only saving its state dict.\n",
      "tokenizer config file saved in ./results/checkpoint-145000/tokenizer_config.json\n",
      "Special tokens file saved in ./results/checkpoint-145000/special_tokens_map.json\n",
      "***** Running Evaluation *****\n",
      "  Num examples = 103683\n",
      "  Batch size = 32\n",
      "Saving model checkpoint to ./results/checkpoint-150000\n",
      "Trainer.model is not a `PreTrainedModel`, only saving its state dict.\n",
      "tokenizer config file saved in ./results/checkpoint-150000/tokenizer_config.json\n",
      "Special tokens file saved in ./results/checkpoint-150000/special_tokens_map.json\n",
      "***** Running Evaluation *****\n",
      "  Num examples = 103683\n",
      "  Batch size = 32\n",
      "Saving model checkpoint to ./results/checkpoint-155000\n",
      "Trainer.model is not a `PreTrainedModel`, only saving its state dict.\n",
      "tokenizer config file saved in ./results/checkpoint-155000/tokenizer_config.json\n",
      "Special tokens file saved in ./results/checkpoint-155000/special_tokens_map.json\n",
      "***** Running Evaluation *****\n",
      "  Num examples = 103683\n",
      "  Batch size = 32\n",
      "Saving model checkpoint to ./results/checkpoint-160000\n",
      "Trainer.model is not a `PreTrainedModel`, only saving its state dict.\n",
      "tokenizer config file saved in ./results/checkpoint-160000/tokenizer_config.json\n",
      "Special tokens file saved in ./results/checkpoint-160000/special_tokens_map.json\n",
      "***** Running Evaluation *****\n",
      "  Num examples = 103683\n",
      "  Batch size = 32\n",
      "Saving model checkpoint to ./results/checkpoint-165000\n",
      "Trainer.model is not a `PreTrainedModel`, only saving its state dict.\n",
      "tokenizer config file saved in ./results/checkpoint-165000/tokenizer_config.json\n",
      "Special tokens file saved in ./results/checkpoint-165000/special_tokens_map.json\n",
      "***** Running Evaluation *****\n",
      "  Num examples = 103683\n",
      "  Batch size = 32\n",
      "Saving model checkpoint to ./results/checkpoint-170000\n",
      "Trainer.model is not a `PreTrainedModel`, only saving its state dict.\n",
      "tokenizer config file saved in ./results/checkpoint-170000/tokenizer_config.json\n",
      "Special tokens file saved in ./results/checkpoint-170000/special_tokens_map.json\n",
      "***** Running Evaluation *****\n",
      "  Num examples = 103683\n",
      "  Batch size = 32\n",
      "Saving model checkpoint to ./results/checkpoint-175000\n",
      "Trainer.model is not a `PreTrainedModel`, only saving its state dict.\n",
      "tokenizer config file saved in ./results/checkpoint-175000/tokenizer_config.json\n",
      "Special tokens file saved in ./results/checkpoint-175000/special_tokens_map.json\n",
      "***** Running Evaluation *****\n",
      "  Num examples = 103683\n",
      "  Batch size = 32\n",
      "Saving model checkpoint to ./results/checkpoint-180000\n",
      "Trainer.model is not a `PreTrainedModel`, only saving its state dict.\n",
      "tokenizer config file saved in ./results/checkpoint-180000/tokenizer_config.json\n",
      "Special tokens file saved in ./results/checkpoint-180000/special_tokens_map.json\n",
      "\n",
      "\n",
      "Training completed. Do not forget to share your model on huggingface.co/models =)\n",
      "\n",
      "\n",
      "Loading best model from ./results/checkpoint-180000 (score: 0.553774485691965).\n"
     ]
    }
   ],
   "source": [
    "stats = trainer.train()"
   ]
  },
  {
   "cell_type": "code",
   "execution_count": 21,
   "metadata": {},
   "outputs": [
    {
     "name": "stderr",
     "output_type": "stream",
     "text": [
      "***** Running Evaluation *****\n",
      "  Num examples = 103683\n",
      "  Batch size = 32\n"
     ]
    },
    {
     "data": {
      "text/html": [
       "\n",
       "    <div>\n",
       "      \n",
       "      <progress value='3241' max='3241' style='width:300px; height:20px; vertical-align: middle;'></progress>\n",
       "      [3241/3241 01:27]\n",
       "    </div>\n",
       "    "
      ],
      "text/plain": [
       "<IPython.core.display.HTML object>"
      ]
     },
     "metadata": {},
     "output_type": "display_data"
    },
    {
     "name": "stdout",
     "output_type": "stream",
     "text": [
      "{'epoch': 10.0,\n",
      " 'eval_accuracy': 0.553774485691965,\n",
      " 'eval_loss': 1.7018944025039673,\n",
      " 'eval_runtime': 88.2772,\n",
      " 'eval_samples_per_second': 1174.516,\n",
      " 'eval_steps_per_second': 36.714}\n"
     ]
    }
   ],
   "source": [
    "# Print Stats\n",
    "from pprint import pprint\n",
    "pprint(trainer.evaluate())"
   ]
  },
  {
   "cell_type": "code",
   "execution_count": null,
   "metadata": {},
   "outputs": [],
   "source": []
  }
 ],
 "metadata": {
  "kernelspec": {
   "display_name": "base",
   "language": "python",
   "name": "python3"
  },
  "language_info": {
   "codemirror_mode": {
    "name": "ipython",
    "version": 3
   },
   "file_extension": ".py",
   "mimetype": "text/x-python",
   "name": "python",
   "nbconvert_exporter": "python",
   "pygments_lexer": "ipython3",
   "version": "3.8.13"
  },
  "orig_nbformat": 4
 },
 "nbformat": 4,
 "nbformat_minor": 2
}

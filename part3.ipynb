{
 "cells": [
  {
   "cell_type": "markdown",
   "metadata": {},
   "source": [
    "# IndoML 2023 Tuturial: Part 2\n",
    "## The Era of LLMs!\n",
    "\n",
    "### In-context learning and Prompt Engineering\n",
    "\n",
    "\n",
    "1. We will use recent LLMs like GPT-3/FLAN-T5/LLAMA to query the models in natural language to get answers/predictions.\n",
    "2. These models are finetuned on instructions or human-feedbacks to enable them to perform a task through \"prompting\".\n",
    "3. Best part is we wouldn't need to train our models to get started, direct inference from these pretrained models is fine.\n",
    "    * NOTE: Although there can be methods to finetune these models on our data to get better results, we will not be covering that in this tutorial.\n",
    "\n",
    "### Methods that we will try:\n",
    "\n",
    "1. FLAN-T5"
   ]
  },
  {
   "cell_type": "markdown",
   "metadata": {},
   "source": [
    "## Load `dataset`"
   ]
  },
  {
   "cell_type": "code",
   "execution_count": 1,
   "metadata": {},
   "outputs": [
    {
     "name": "stderr",
     "output_type": "stream",
     "text": [
      "/home/bsantra/miniconda3/envs/py38/lib/python3.8/site-packages/tqdm/auto.py:22: TqdmWarning: IProgress not found. Please update jupyter and ipywidgets. See https://ipywidgets.readthedocs.io/en/stable/user_install.html\n",
      "  from .autonotebook import tqdm as notebook_tqdm\n",
      "2023-08-26 10:15:58.521414: I tensorflow/core/platform/cpu_feature_guard.cc:182] This TensorFlow binary is optimized to use available CPU instructions in performance-critical operations.\n",
      "To enable the following instructions: AVX2 FMA, in other operations, rebuild TensorFlow with the appropriate compiler flags.\n",
      "2023-08-26 10:15:59.220700: W tensorflow/compiler/tf2tensorrt/utils/py_utils.cc:38] TF-TRT Warning: Could not find TensorRT\n"
     ]
    }
   ],
   "source": [
    "from tqdm import tqdm\n",
    "from datasets import load_dataset\n",
    "from transformers import AutoTokenizer, DataCollatorWithPadding\n",
    "\n",
    "tqdm.pandas()\n",
    "\n",
    "dataset = load_dataset(\"AmazonScience/massive\")\n"
   ]
  },
  {
   "cell_type": "markdown",
   "metadata": {},
   "source": [
    "## Load `AutoTokenizer` and `AutoModelForSeq2SeqLM`"
   ]
  },
  {
   "cell_type": "code",
   "execution_count": 5,
   "metadata": {},
   "outputs": [
    {
     "ename": "TypeError",
     "evalue": "__init__() got an unexpected keyword argument 'load_in_4bit'",
     "output_type": "error",
     "traceback": [
      "\u001b[0;31m---------------------------------------------------------------------------\u001b[0m",
      "\u001b[0;31mTypeError\u001b[0m                                 Traceback (most recent call last)",
      "Cell \u001b[0;32mIn[5], line 8\u001b[0m\n\u001b[1;32m      5\u001b[0m checkpoint \u001b[39m=\u001b[39m \u001b[39m\"\u001b[39m\u001b[39mbigscience/bloomz-3b\u001b[39m\u001b[39m\"\u001b[39m\n\u001b[1;32m      7\u001b[0m tokenizer \u001b[39m=\u001b[39m AutoTokenizer\u001b[39m.\u001b[39mfrom_pretrained(checkpoint)\n\u001b[0;32m----> 8\u001b[0m model \u001b[39m=\u001b[39m AutoModelForCausalLM\u001b[39m.\u001b[39;49mfrom_pretrained(checkpoint, device_map\u001b[39m=\u001b[39;49m\u001b[39m\"\u001b[39;49m\u001b[39mauto\u001b[39;49m\u001b[39m\"\u001b[39;49m, load_in_4bit\u001b[39m=\u001b[39;49m\u001b[39mTrue\u001b[39;49;00m)\n",
      "File \u001b[0;32m~/miniconda3/envs/py38/lib/python3.8/site-packages/transformers/models/auto/auto_factory.py:464\u001b[0m, in \u001b[0;36m_BaseAutoModelClass.from_pretrained\u001b[0;34m(cls, pretrained_model_name_or_path, *model_args, **kwargs)\u001b[0m\n\u001b[1;32m    462\u001b[0m \u001b[39melif\u001b[39;00m \u001b[39mtype\u001b[39m(config) \u001b[39min\u001b[39;00m \u001b[39mcls\u001b[39m\u001b[39m.\u001b[39m_model_mapping\u001b[39m.\u001b[39mkeys():\n\u001b[1;32m    463\u001b[0m     model_class \u001b[39m=\u001b[39m _get_model_class(config, \u001b[39mcls\u001b[39m\u001b[39m.\u001b[39m_model_mapping)\n\u001b[0;32m--> 464\u001b[0m     \u001b[39mreturn\u001b[39;00m model_class\u001b[39m.\u001b[39;49mfrom_pretrained(\n\u001b[1;32m    465\u001b[0m         pretrained_model_name_or_path, \u001b[39m*\u001b[39;49mmodel_args, config\u001b[39m=\u001b[39;49mconfig, \u001b[39m*\u001b[39;49m\u001b[39m*\u001b[39;49mhub_kwargs, \u001b[39m*\u001b[39;49m\u001b[39m*\u001b[39;49mkwargs\n\u001b[1;32m    466\u001b[0m     )\n\u001b[1;32m    467\u001b[0m \u001b[39mraise\u001b[39;00m \u001b[39mValueError\u001b[39;00m(\n\u001b[1;32m    468\u001b[0m     \u001b[39mf\u001b[39m\u001b[39m\"\u001b[39m\u001b[39mUnrecognized configuration class \u001b[39m\u001b[39m{\u001b[39;00mconfig\u001b[39m.\u001b[39m\u001b[39m__class__\u001b[39m\u001b[39m}\u001b[39;00m\u001b[39m for this kind of AutoModel: \u001b[39m\u001b[39m{\u001b[39;00m\u001b[39mcls\u001b[39m\u001b[39m.\u001b[39m\u001b[39m__name__\u001b[39m\u001b[39m}\u001b[39;00m\u001b[39m.\u001b[39m\u001b[39m\\n\u001b[39;00m\u001b[39m\"\u001b[39m\n\u001b[1;32m    469\u001b[0m     \u001b[39mf\u001b[39m\u001b[39m\"\u001b[39m\u001b[39mModel type should be one of \u001b[39m\u001b[39m{\u001b[39;00m\u001b[39m'\u001b[39m\u001b[39m, \u001b[39m\u001b[39m'\u001b[39m\u001b[39m.\u001b[39mjoin(c\u001b[39m.\u001b[39m\u001b[39m__name__\u001b[39m\u001b[39m \u001b[39m\u001b[39mfor\u001b[39;00m\u001b[39m \u001b[39mc\u001b[39m \u001b[39m\u001b[39min\u001b[39;00m\u001b[39m \u001b[39m\u001b[39mcls\u001b[39m\u001b[39m.\u001b[39m_model_mapping\u001b[39m.\u001b[39mkeys())\u001b[39m}\u001b[39;00m\u001b[39m.\u001b[39m\u001b[39m\"\u001b[39m\n\u001b[1;32m    470\u001b[0m )\n",
      "File \u001b[0;32m~/miniconda3/envs/py38/lib/python3.8/site-packages/transformers/modeling_utils.py:2362\u001b[0m, in \u001b[0;36mPreTrainedModel.from_pretrained\u001b[0;34m(cls, pretrained_model_name_or_path, *model_args, **kwargs)\u001b[0m\n\u001b[1;32m   2359\u001b[0m     init_contexts\u001b[39m.\u001b[39mappend(init_empty_weights())\n\u001b[1;32m   2361\u001b[0m \u001b[39mwith\u001b[39;00m ContextManagers(init_contexts):\n\u001b[0;32m-> 2362\u001b[0m     model \u001b[39m=\u001b[39m \u001b[39mcls\u001b[39;49m(config, \u001b[39m*\u001b[39;49mmodel_args, \u001b[39m*\u001b[39;49m\u001b[39m*\u001b[39;49mmodel_kwargs)\n\u001b[1;32m   2364\u001b[0m \u001b[39m# Check first if we are `from_pt`\u001b[39;00m\n\u001b[1;32m   2365\u001b[0m \u001b[39mif\u001b[39;00m use_keep_in_fp32_modules:\n",
      "\u001b[0;31mTypeError\u001b[0m: __init__() got an unexpected keyword argument 'load_in_4bit'"
     ]
    }
   ],
   "source": [
    "# pip install -q transformers accelerate bitsandbytes\n",
    "from transformers import AutoTokenizer, AutoModelForCausalLM\n",
    "\n",
    "# checkpoint = \"bigscience/mt0-base\"\n",
    "# checkpoint = \"bigscience/bloomz-3b\"\n",
    "checkpoint = \"google/flan-t5-xxl\"\n",
    "\n",
    "tokenizer = AutoTokenizer.from_pretrained(checkpoint)\n",
    "model = AutoModelForCausalLM.from_pretrained(checkpoint, device_map=\"auto\", load_in_8bit=True)"
   ]
  },
  {
   "cell_type": "markdown",
   "metadata": {},
   "source": [
    "## Model Specific Example of Prompt Engineering"
   ]
  },
  {
   "cell_type": "code",
   "execution_count": null,
   "metadata": {},
   "outputs": [
    {
     "name": "stdout",
     "output_type": "stream",
     "text": [
      "<pad> I am going to school.</s>\n"
     ]
    }
   ],
   "source": [
    "inputs = tokenizer.encode(\"Detect Intent: I am going to school\", return_tensors=\"pt\").to(\"cuda\")\n",
    "outputs = model.generate(inputs)\n",
    "print(tokenizer.decode(outputs[0]))"
   ]
  },
  {
   "cell_type": "markdown",
   "metadata": {},
   "source": [
    "## Preprocessing\n",
    "\n",
    "- We will create prompts for each test sample in the dataset. \n",
    "- There are few ways to format these prompt and this step is called \"Prompt Engineering\".\n",
    "    - Few-shot In-context learning: Use task-description and examples\n",
    "    - Zero-shot In-context learning: Use task-description only"
   ]
  },
  {
   "cell_type": "markdown",
   "metadata": {},
   "source": [
    "## Exemplars for the multilingual intent-detection task"
   ]
  },
  {
   "cell_type": "code",
   "execution_count": 23,
   "metadata": {},
   "outputs": [],
   "source": [
    "# Gather examples from the training dataset\n",
    "import pandas as pd\n",
    "df_train = dataset['train'].to_pandas()\n",
    "\n",
    "# Extract one random sample per intent, we will randomly sample the rows\n",
    "# Hope is that the model will predict english labels for any language that way.\n",
    "df_intent_samples = df_train.groupby(\"intent\").apply(lambda x: x.sample(1, random_state=42)).reset_index(drop=True)    "
   ]
  },
  {
   "cell_type": "code",
   "execution_count": 24,
   "metadata": {},
   "outputs": [],
   "source": [
    "# Add formatted prompt for each sample\n",
    "def int2str(x):\n",
    "    return dataset['train'].features['intent'].int2str(x)\n",
    "\n",
    "df_intent_samples['example_prompt_format'] = df_intent_samples.apply(lambda x: f'Utterance: {x[\"utt\"]}; Intent: {int2str(x[\"intent\"])}', axis=1)\n",
    "\n",
    "# merge examples into a single string\n",
    "prompt_exemplars = df_intent_samples['example_prompt_format'].str.cat(sep='\\n')"
   ]
  },
  {
   "cell_type": "code",
   "execution_count": 25,
   "metadata": {},
   "outputs": [
    {
     "name": "stdout",
     "output_type": "stream",
     "text": [
      "Utterance: የዛሬውን ቀን ልትነግሩኝ ትችላላቹ; Intent: datetime_query\n",
      "Utterance: cambia las luces a azul; Intent: iot_hue_lightchange\n",
      "Utterance: je veux un billet de train pour l' oregon; Intent: transport_ticket\n",
      "Utterance: உணவகத்தில் எடுத்துச் செல்லும் வசதி உள்ளதா; Intent: takeaway_query\n",
      "Utterance: berapakah nilai saham apple; Intent: qa_stock\n",
      "Utterance: buna; Intent: general_greet\n",
      "Utterance: olly ni matukio yapi yanafanyika karibu na mimi leo; Intent: recommendation_events\n",
      "Utterance: bu mahnını xoşlamadığımı yadda saxla; Intent: music_dislikeness\n",
      "Utterance: oprește-mi priza wemo acum; Intent: iot_wemo_off\n",
      "Utterance: hvor mange grøntsager burde jeg spise om dagen; Intent: cooking_recipe\n",
      "Utterance: இந்திய ரூபாவுடன் டாலரின் மாற்று விகிதம் என்ன; Intent: qa_currency\n",
      "Utterance: 運輸; Intent: transport_traffic\n",
      "Utterance: چطور پیش می‌رود; Intent: general_quirky\n",
      "Utterance: آج آب و ہوا کیسی ہے; Intent: weather_query\n",
      "Utterance: volumen på musikken der spiller nu skal op; Intent: audio_volume_up\n",
      "Utterance: እባክህ የኤልያስ ሁሴን አድራሻ ኢሜል በ ኤልያስሁሴን አት ያሁ ዶት ኮም አድራሻ መረጃ ጨምር; Intent: email_addcontact\n",
      "Utterance: bestel een medium pizza met salami en spek; Intent: takeaway_order\n",
      "Utterance: est-ce que maman m'a envoyé un texto; Intent: email_querycontact\n",
      "Utterance: ሳሎን ውስጥ መብራቶች ወደላይ ጨምር; Intent: iot_hue_lightup\n",
      "Utterance: jeg vil finne noe kinesisk mat hva er i nærheten; Intent: recommendation_locations\n",
      "Utterance: ponme la canción de mchael jackson del audiolibro; Intent: play_audiobook\n",
      "Utterance: 新しい買い物リストを始める; Intent: lists_createoradd\n",
      "Utterance: براہ کرم مجھے تمام کرونا وائرس معلومات بھیجنا; Intent: news_query\n",
      "Utterance: har jag några larm; Intent: alarm_query\n",
      "Utterance: मेरा wemo प्लग सॉकेट बंद कर दो; Intent: iot_wemo_on\n",
      "Utterance: hibur saya; Intent: general_joke\n",
      "Utterance: স্বাধীনতার মূর্তি বর্ণনা কর; Intent: qa_definition\n",
      "Utterance: tiešsaistes šovu atgādinājumi; Intent: social_query\n",
      "Utterance: միացրու spotify խառը; Intent: music_settings\n",
      "Utterance: ปรับ การ ตั้งค่า เสียง; Intent: audio_volume_other\n",
      "Utterance: remover esse evento do meu calendário; Intent: calendar_remove\n",
      "Utterance: የሳሎኑን መብራቶች አደብዝዝ; Intent: iot_hue_lightdim\n",
      "Utterance: muéstra me todos los recordatorios de la reunión; Intent: calendar_query\n",
      "Utterance: এই সপ্তাহে আবহাওয়া কেমন আছে বাবাকে একটি ইমেল পাঠান; Intent: email_sendemail\n",
      "Utterance: ჩართე მტვერსასრუტი; Intent: iot_cleaning\n",
      "Utterance: scade volumul pentru audio; Intent: audio_volume_down\n",
      "Utterance: በፍሪኪዌንሲ አንድ ላይ ፋና የሚባል የሬዲዮ ጣቢያ ፈልግ; Intent: play_radio\n",
      "Utterance: வான்கோழியை சமைக்க எளிதான மற்றும் விரைவான வழி எது; Intent: cooking_query\n",
      "Utterance: care este diferența de fus orar între locația mea și hong kong; Intent: datetime_convert\n",
      "Utterance: مثلث کا حساب لگانے کا طریقہ; Intent: qa_maths\n",
      "Utterance: voglio spegnere la luce puoi farlo; Intent: iot_hue_lightoff\n",
      "Utterance: olly het is te donker ik kan niet eens mijn handen zien; Intent: iot_hue_lighton\n",
      "Utterance: የ ባቡር መርሃ ግብር; Intent: transport_query\n",
      "Utterance: tämä on hyvä laulu; Intent: music_likeness\n",
      "Utterance: recebi alguma resposta do joão; Intent: email_query\n",
      "Utterance: এলেক্সা ক্লাসিকাল রক বাজাও; Intent: play_music\n",
      "Utterance: sæt volume til nul; Intent: audio_volume_mute\n",
      "Utterance: የጋዝ ሲሊንደር ዘግይቶ መላክን በተመለከተ ኢንዲያ ተጠቃሚዎች የቅሬታ ሸንጎ መድረክ ላይ ቲዊት እንድትያደርጉልኝ እፈልጋለሁ; Intent: social_post\n",
      "Utterance: ահազանգ երեքշաբթի ցերեկը հինգին; Intent: alarm_set\n",
      "Utterance: google hov ett; Intent: qa_factoid\n",
      "Utterance: օրացուցային իրադարձությունն ունի բազմաթիվ մարդիկ; Intent: calendar_set\n",
      "Utterance: abre angry birds; Intent: play_game\n",
      "Utterance: براہ کرم اس الارم کو ہٹا دیں جو میں نے آج صبح کے لیے سیٹ کیا ہے; Intent: alarm_remove\n",
      "Utterance: apri i promemoria; Intent: lists_remove\n",
      "Utterance: ဒီနေ့ည ခုနစ်နာရီ အတွက် အိုးဝေ ကိုကြိုငှားပါ; Intent: transport_taxi\n",
      "Utterance: jakie filmy grają niedaleko; Intent: recommendation_movies\n",
      "Utterance: תכין קפה; Intent: iot_coffee\n",
      "Utterance: näytä minulle kuva laulajasta; Intent: music_query\n",
      "Utterance: নিম্নলিখিত পডকাস্ট পর্ব শুরু; Intent: play_podcasts\n",
      "Utterance: aku pengin ngerti rincian ing dhaptar blanja; Intent: lists_query\n"
     ]
    }
   ],
   "source": [
    "print(prompt_exemplar)"
   ]
  },
  {
   "cell_type": "markdown",
   "metadata": {},
   "source": [
    "## Generate prompts for each query"
   ]
  },
  {
   "cell_type": "code",
   "execution_count": 22,
   "metadata": {},
   "outputs": [
    {
     "name": "stderr",
     "output_type": "stream",
     "text": [
      "Map: 100%|██████████| 103683/103683 [00:17<00:00, 5855.29 examples/s]\n"
     ]
    }
   ],
   "source": [
    "# Add a new feature column to the dataset\n",
    "# Prompt: What is the intent of the following sentence?\\m \"{utt}\"\n",
    "\n",
    "few_shot = True\n",
    "def add_prompt(example):\n",
    "    if few_shot:\n",
    "        example[\"prompt\"] = f'# Detect intent of the input utterance.\\n\\n{prompt_exemplars}\\nUtterance: {example[\"utt\"]}; Intent:'\n",
    "    else:\n",
    "        example[\"prompt\"] = f'# Detect intent of the input utterance.\\n\\nUtterance: {example[\"utt\"]}; Intent:'\n",
    "\n",
    "    return example\n",
    "\n",
    "def add_str_label(example):\n",
    "    example[\"str_label\"] = int2str(example[\"intent\"])\n",
    "    return example\n",
    "\n",
    "extended_eval_set = dataset['validation'].map(add_prompt)\n",
    "extended_eval_set = extended_eval_set.map(add_str_label)"
   ]
  },
  {
   "cell_type": "code",
   "execution_count": 26,
   "metadata": {},
   "outputs": [
    {
     "name": "stderr",
     "output_type": "stream",
     "text": [
      "Map:   0%|          | 0/103683 [00:00<?, ? examples/s]"
     ]
    },
    {
     "name": "stderr",
     "output_type": "stream",
     "text": [
      "Map: 100%|██████████| 103683/103683 [00:50<00:00, 2046.25 examples/s]\n"
     ]
    }
   ],
   "source": []
  },
  {
   "cell_type": "markdown",
   "metadata": {},
   "source": [
    "## Now let's try to predict using the LLM"
   ]
  },
  {
   "cell_type": "code",
   "execution_count": 27,
   "metadata": {},
   "outputs": [
    {
     "name": "stdout",
     "output_type": "stream",
     "text": [
      "# Detect intent of the input utterance.\n",
      "\n",
      "Utterance: የዛሬውን ቀን ልትነግሩኝ ትችላላቹ; Intent: datetime_query\n",
      "Utterance: cambia las luces a azul; Intent: iot_hue_lightchange\n",
      "Utterance: je veux un billet de train pour l' oregon; Intent: transport_ticket\n",
      "Utterance: உணவகத்தில் எடுத்துச் செல்லும் வசதி உள்ளதா; Intent: takeaway_query\n",
      "Utterance: berapakah nilai saham apple; Intent: qa_stock\n",
      "Utterance: buna; Intent: general_greet\n",
      "Utterance: olly ni matukio yapi yanafanyika karibu na mimi leo; Intent: recommendation_events\n",
      "Utterance: bu mahnını xoşlamadığımı yadda saxla; Intent: music_dislikeness\n",
      "Utterance: oprește-mi priza wemo acum; Intent: iot_wemo_off\n",
      "Utterance: hvor mange grøntsager burde jeg spise om dagen; Intent: cooking_recipe\n",
      "Utterance: இந்திய ரூபாவுடன் டாலரின் மாற்று விகிதம் என்ன; Intent: qa_currency\n",
      "Utterance: 運輸; Intent: transport_traffic\n",
      "Utterance: چطور پیش می‌رود; Intent: general_quirky\n",
      "Utterance: آج آب و ہوا کیسی ہے; Intent: weather_query\n",
      "Utterance: volumen på musikken der spiller nu skal op; Intent: audio_volume_up\n",
      "Utterance: እባክህ የኤልያስ ሁሴን አድራሻ ኢሜል በ ኤልያስሁሴን አት ያሁ ዶት ኮም አድራሻ መረጃ ጨምር; Intent: email_addcontact\n",
      "Utterance: bestel een medium pizza met salami en spek; Intent: takeaway_order\n",
      "Utterance: est-ce que maman m'a envoyé un texto; Intent: email_querycontact\n",
      "Utterance: ሳሎን ውስጥ መብራቶች ወደላይ ጨምር; Intent: iot_hue_lightup\n",
      "Utterance: jeg vil finne noe kinesisk mat hva er i nærheten; Intent: recommendation_locations\n",
      "Utterance: ponme la canción de mchael jackson del audiolibro; Intent: play_audiobook\n",
      "Utterance: 新しい買い物リストを始める; Intent: lists_createoradd\n",
      "Utterance: براہ کرم مجھے تمام کرونا وائرس معلومات بھیجنا; Intent: news_query\n",
      "Utterance: har jag några larm; Intent: alarm_query\n",
      "Utterance: मेरा wemo प्लग सॉकेट बंद कर दो; Intent: iot_wemo_on\n",
      "Utterance: hibur saya; Intent: general_joke\n",
      "Utterance: স্বাধীনতার মূর্তি বর্ণনা কর; Intent: qa_definition\n",
      "Utterance: tiešsaistes šovu atgādinājumi; Intent: social_query\n",
      "Utterance: միացրու spotify խառը; Intent: music_settings\n",
      "Utterance: ปรับ การ ตั้งค่า เสียง; Intent: audio_volume_other\n",
      "Utterance: remover esse evento do meu calendário; Intent: calendar_remove\n",
      "Utterance: የሳሎኑን መብራቶች አደብዝዝ; Intent: iot_hue_lightdim\n",
      "Utterance: muéstra me todos los recordatorios de la reunión; Intent: calendar_query\n",
      "Utterance: এই সপ্তাহে আবহাওয়া কেমন আছে বাবাকে একটি ইমেল পাঠান; Intent: email_sendemail\n",
      "Utterance: ჩართე მტვერსასრუტი; Intent: iot_cleaning\n",
      "Utterance: scade volumul pentru audio; Intent: audio_volume_down\n",
      "Utterance: በፍሪኪዌንሲ አንድ ላይ ፋና የሚባል የሬዲዮ ጣቢያ ፈልግ; Intent: play_radio\n",
      "Utterance: வான்கோழியை சமைக்க எளிதான மற்றும் விரைவான வழி எது; Intent: cooking_query\n",
      "Utterance: care este diferența de fus orar între locația mea și hong kong; Intent: datetime_convert\n",
      "Utterance: مثلث کا حساب لگانے کا طریقہ; Intent: qa_maths\n",
      "Utterance: voglio spegnere la luce puoi farlo; Intent: iot_hue_lightoff\n",
      "Utterance: olly het is te donker ik kan niet eens mijn handen zien; Intent: iot_hue_lighton\n",
      "Utterance: የ ባቡር መርሃ ግብር; Intent: transport_query\n",
      "Utterance: tämä on hyvä laulu; Intent: music_likeness\n",
      "Utterance: recebi alguma resposta do joão; Intent: email_query\n",
      "Utterance: এলেক্সা ক্লাসিকাল রক বাজাও; Intent: play_music\n",
      "Utterance: sæt volume til nul; Intent: audio_volume_mute\n",
      "Utterance: የጋዝ ሲሊንደር ዘግይቶ መላክን በተመለከተ ኢንዲያ ተጠቃሚዎች የቅሬታ ሸንጎ መድረክ ላይ ቲዊት እንድትያደርጉልኝ እፈልጋለሁ; Intent: social_post\n",
      "Utterance: ահազանգ երեքշաբթի ցերեկը հինգին; Intent: alarm_set\n",
      "Utterance: google hov ett; Intent: qa_factoid\n",
      "Utterance: օրացուցային իրադարձությունն ունի բազմաթիվ մարդիկ; Intent: calendar_set\n",
      "Utterance: abre angry birds; Intent: play_game\n",
      "Utterance: براہ کرم اس الارم کو ہٹا دیں جو میں نے آج صبح کے لیے سیٹ کیا ہے; Intent: alarm_remove\n",
      "Utterance: apri i promemoria; Intent: lists_remove\n",
      "Utterance: ဒီနေ့ည ခုနစ်နာရီ အတွက် အိုးဝေ ကိုကြိုငှားပါ; Intent: transport_taxi\n",
      "Utterance: jakie filmy grają niedaleko; Intent: recommendation_movies\n",
      "Utterance: תכין קפה; Intent: iot_coffee\n",
      "Utterance: näytä minulle kuva laulajasta; Intent: music_query\n",
      "Utterance: নিম্নলিখিত পডকাস্ট পর্ব শুরু; Intent: play_podcasts\n",
      "Utterance: aku pengin ngerti rincian ing dhaptar blanja; Intent: lists_query\n",
      "Utterance: гэрлийг унтраа; Intent:\n"
     ]
    },
    {
     "ename": "NameError",
     "evalue": "name 'model' is not defined",
     "output_type": "error",
     "traceback": [
      "\u001b[0;31m---------------------------------------------------------------------------\u001b[0m",
      "\u001b[0;31mNameError\u001b[0m                                 Traceback (most recent call last)",
      "Cell \u001b[0;32mIn[27], line 5\u001b[0m\n\u001b[1;32m      3\u001b[0m x \u001b[39m=\u001b[39m extended_eval_set[\u001b[39m0\u001b[39m][\u001b[39m'\u001b[39m\u001b[39mprompt\u001b[39m\u001b[39m'\u001b[39m]\n\u001b[1;32m      4\u001b[0m tok_x \u001b[39m=\u001b[39m tokenizer(x, return_tensors\u001b[39m=\u001b[39m\u001b[39m\"\u001b[39m\u001b[39mpt\u001b[39m\u001b[39m\"\u001b[39m)\n\u001b[0;32m----> 5\u001b[0m y \u001b[39m=\u001b[39m model\u001b[39m.\u001b[39mgenerate(tok_x[\u001b[39m'\u001b[39m\u001b[39minput_ids\u001b[39m\u001b[39m'\u001b[39m]\u001b[39m.\u001b[39mto(\u001b[39m\"\u001b[39m\u001b[39mcuda\u001b[39m\u001b[39m\"\u001b[39m), num_beams\u001b[39m=\u001b[39m\u001b[39m5\u001b[39m, num_return_sequences\u001b[39m=\u001b[39m\u001b[39m5\u001b[39m, max_length\u001b[39m=\u001b[39m\u001b[39m100\u001b[39m)\n\u001b[1;32m      6\u001b[0m \u001b[39mprint\u001b[39m(tokenizer\u001b[39m.\u001b[39mdecode(y[\u001b[39m0\u001b[39m]))\n",
      "\u001b[0;31mNameError\u001b[0m: name 'model' is not defined"
     ]
    }
   ],
   "source": [
    "print(extended_eval_set[0]['prompt'])\n",
    "\n",
    "x = extended_eval_set[0]['prompt']\n",
    "tok_x = tokenizer(x, return_tensors=\"pt\")\n",
    "y = model.generate(tok_x['input_ids'].to(\"cuda\"), num_beams=5, num_return_sequences=5, max_length=100)\n",
    "print(tokenizer.decode(y[0]))"
   ]
  },
  {
   "cell_type": "code",
   "execution_count": 3,
   "metadata": {},
   "outputs": [],
   "source": [
    "tokenized_datasets = dataset.map(tokenize_function, batched=True)\n",
    "# data_collator = DataCollatorWithPadding(tokenizer=tokenizer)"
   ]
  },
  {
   "cell_type": "code",
   "execution_count": 4,
   "metadata": {},
   "outputs": [
    {
     "data": {
      "text/plain": [
       "dict_keys(['id', 'locale', 'partition', 'scenario', 'intent', 'utt', 'annot_utt', 'worker_id', 'slot_method', 'judgments', 'input_ids', 'attention_mask'])"
      ]
     },
     "execution_count": 4,
     "metadata": {},
     "output_type": "execute_result"
    }
   ],
   "source": [
    "tokenized_datasets['train'][0].keys()"
   ]
  },
  {
   "cell_type": "code",
   "execution_count": 5,
   "metadata": {},
   "outputs": [],
   "source": [
    "# Remove columns that are not needed\n",
    "to_remove = list(tokenized_datasets['train'][0].keys())\n",
    "\n",
    "# Don't remove these columns\n",
    "to_remove.remove('input_ids')\n",
    "to_remove.remove('attention_mask')\n",
    "to_remove.remove('intent')\n",
    "\n",
    "tokenized_datasets = tokenized_datasets.remove_columns(to_remove)\n",
    "tokenized_datasets = tokenized_datasets.rename_column('intent', 'labels')\n"
   ]
  },
  {
   "cell_type": "code",
   "execution_count": 6,
   "metadata": {},
   "outputs": [
    {
     "data": {
      "text/plain": [
       "{'labels': ClassLabel(names=['datetime_query', 'iot_hue_lightchange', 'transport_ticket', 'takeaway_query', 'qa_stock', 'general_greet', 'recommendation_events', 'music_dislikeness', 'iot_wemo_off', 'cooking_recipe', 'qa_currency', 'transport_traffic', 'general_quirky', 'weather_query', 'audio_volume_up', 'email_addcontact', 'takeaway_order', 'email_querycontact', 'iot_hue_lightup', 'recommendation_locations', 'play_audiobook', 'lists_createoradd', 'news_query', 'alarm_query', 'iot_wemo_on', 'general_joke', 'qa_definition', 'social_query', 'music_settings', 'audio_volume_other', 'calendar_remove', 'iot_hue_lightdim', 'calendar_query', 'email_sendemail', 'iot_cleaning', 'audio_volume_down', 'play_radio', 'cooking_query', 'datetime_convert', 'qa_maths', 'iot_hue_lightoff', 'iot_hue_lighton', 'transport_query', 'music_likeness', 'email_query', 'play_music', 'audio_volume_mute', 'social_post', 'alarm_set', 'qa_factoid', 'calendar_set', 'play_game', 'alarm_remove', 'lists_remove', 'transport_taxi', 'recommendation_movies', 'iot_coffee', 'music_query', 'play_podcasts', 'lists_query'], id=None),\n",
       " 'input_ids': Sequence(feature=Value(dtype='int32', id=None), length=-1, id=None),\n",
       " 'attention_mask': Sequence(feature=Value(dtype='int8', id=None), length=-1, id=None)}"
      ]
     },
     "execution_count": 6,
     "metadata": {},
     "output_type": "execute_result"
    }
   ],
   "source": [
    "tokenized_datasets['train'].features"
   ]
  },
  {
   "cell_type": "code",
   "execution_count": null,
   "metadata": {},
   "outputs": [],
   "source": []
  },
  {
   "cell_type": "markdown",
   "metadata": {},
   "source": [
    "## Dataloaders [Optional]\n",
    "\n",
    "- Instead of going through individual samples in the dataset, we would like to \n",
    "batches of samples to train our model. \n",
    "- Dataloader\n",
    "    1. Creates an \"iterator\" over the dataset, which returns a batch of samples every turn\n",
    "    2. Handles shuffling\n",
    "    3. Collates samples into batches, by padding the input sequences to the maximum length in the batch"
   ]
  },
  {
   "cell_type": "code",
   "execution_count": 7,
   "metadata": {},
   "outputs": [],
   "source": [
    "# from torch.utils.data import DataLoader\n",
    "\n",
    "# train_dataloader = DataLoader(\n",
    "#     tokenized_datasets[\"train\"], shuffle=True, batch_size=8, collate_fn=data_collator\n",
    "# )\n",
    "# eval_dataloader = DataLoader(\n",
    "#     tokenized_datasets[\"validation\"], batch_size=8, collate_fn=data_collator\n",
    "# )"
   ]
  },
  {
   "cell_type": "code",
   "execution_count": 8,
   "metadata": {},
   "outputs": [],
   "source": [
    "# Check the shape of the tensors\n",
    "# for batch in tqdm(train_dataloader):\n",
    "#     break\n",
    "# {k: v.shape for k, v in batch.items()}"
   ]
  },
  {
   "cell_type": "markdown",
   "metadata": {},
   "source": [
    "```python\n",
    "{'labels': torch.Size([8]),\n",
    " 'input_ids': torch.Size([8, 25]),\n",
    " 'attention_mask': torch.Size([8, 25])}\n",
    "```"
   ]
  },
  {
   "cell_type": "markdown",
   "metadata": {},
   "source": [
    "## Load model using an `AutoModel`"
   ]
  },
  {
   "cell_type": "code",
   "execution_count": 9,
   "metadata": {},
   "outputs": [
    {
     "name": "stdout",
     "output_type": "stream",
     "text": [
      "huggingface/tokenizers: The current process just got forked, after parallelism has already been used. Disabling parallelism to avoid deadlocks...\n",
      "To disable this warning, you can either:\n",
      "\t- Avoid using `tokenizers` before the fork if possible\n",
      "\t- Explicitly set the environment variable TOKENIZERS_PARALLELISM=(true | false)\n",
      "huggingface/tokenizers: The current process just got forked, after parallelism has already been used. Disabling parallelism to avoid deadlocks...\n",
      "To disable this warning, you can either:\n",
      "\t- Avoid using `tokenizers` before the fork if possible\n",
      "\t- Explicitly set the environment variable TOKENIZERS_PARALLELISM=(true | false)\n",
      "huggingface/tokenizers: The current process just got forked, after parallelism has already been used. Disabling parallelism to avoid deadlocks...\n",
      "To disable this warning, you can either:\n",
      "\t- Avoid using `tokenizers` before the fork if possible\n",
      "\t- Explicitly set the environment variable TOKENIZERS_PARALLELISM=(true | false)\n",
      "huggingface/tokenizers: The current process just got forked, after parallelism has already been used. Disabling parallelism to avoid deadlocks...\n",
      "To disable this warning, you can either:\n",
      "\t- Avoid using `tokenizers` before the fork if possible\n",
      "\t- Explicitly set the environment variable TOKENIZERS_PARALLELISM=(true | false)\n"
     ]
    },
    {
     "name": "stderr",
     "output_type": "stream",
     "text": [
      "Some weights of the model checkpoint at distilbert-base-uncased were not used when initializing DistilBertForSequenceClassification: ['vocab_projector.bias', 'vocab_transform.bias', 'vocab_layer_norm.weight', 'vocab_layer_norm.bias', 'vocab_transform.weight']\n",
      "- This IS expected if you are initializing DistilBertForSequenceClassification from the checkpoint of a model trained on another task or with another architecture (e.g. initializing a BertForSequenceClassification model from a BertForPreTraining model).\n",
      "- This IS NOT expected if you are initializing DistilBertForSequenceClassification from the checkpoint of a model that you expect to be exactly identical (initializing a BertForSequenceClassification model from a BertForSequenceClassification model).\n",
      "Some weights of DistilBertForSequenceClassification were not initialized from the model checkpoint at distilbert-base-uncased and are newly initialized: ['classifier.weight', 'pre_classifier.weight', 'classifier.bias', 'pre_classifier.bias']\n",
      "You should probably TRAIN this model on a down-stream task to be able to use it for predictions and inference.\n"
     ]
    }
   ],
   "source": [
    "from transformers import AutoModelForSequenceClassification\n",
    "\n",
    "model = AutoModelForSequenceClassification.from_pretrained(checkpoint, num_labels=tokenized_datasets['train'].features['labels'].num_classes)"
   ]
  },
  {
   "cell_type": "code",
   "execution_count": 10,
   "metadata": {},
   "outputs": [],
   "source": [
    "# # Let's check the output of a single forward pass\n",
    "# outputs = model(**batch)\n",
    "# print(outputs.loss, outputs.logits.shape)"
   ]
  },
  {
   "cell_type": "markdown",
   "metadata": {},
   "source": [
    "## Setup Evaluation Metric"
   ]
  },
  {
   "cell_type": "code",
   "execution_count": 11,
   "metadata": {},
   "outputs": [],
   "source": [
    "import numpy as np\n",
    "import evaluate\n",
    "\n",
    "metric = evaluate.load(\"accuracy\")"
   ]
  },
  {
   "cell_type": "code",
   "execution_count": 12,
   "metadata": {},
   "outputs": [],
   "source": [
    "# We need to define a compute_metric function that is supported by the Trainer output\n",
    "# It basically converts the logits to predictions and then calls the metric\n",
    "def compute_metrics(eval_pred):\n",
    "    logits, labels = eval_pred\n",
    "    predictions = np.argmax(logits, axis=-1)\n",
    "    return metric.compute(predictions=predictions, references=labels)"
   ]
  },
  {
   "cell_type": "markdown",
   "metadata": {},
   "source": [
    "## Setup Trainer and Finetuning\n",
    "\n",
    "1. When testing your code for the first time, it is a better idea to use a smaller dataset,\n",
    "so that you can quickly iterate over your code.\n",
    "2. We have done the same here by using 128 + 32 samples from the dataset, for training and validation respectively."
   ]
  },
  {
   "cell_type": "code",
   "execution_count": 13,
   "metadata": {},
   "outputs": [],
   "source": [
    "train_data_subset = tokenized_datasets[\"train\"].select(range(4096))\n",
    "eval_data_subset = tokenized_datasets[\"validation\"].select(range(2096))"
   ]
  },
  {
   "cell_type": "code",
   "execution_count": 14,
   "metadata": {},
   "outputs": [],
   "source": [
    "from transformers import TrainingArguments\n",
    "\n",
    "training_args = TrainingArguments(\n",
    "    output_dir=\"./results\",\n",
    "    num_train_epochs=10,\n",
    "    per_device_train_batch_size=32,\n",
    "    per_device_eval_batch_size=32,\n",
    "    # warmup_steps=500,\n",
    "    # weight_decay=0.01,\n",
    "    logging_dir=\"./logs\",\n",
    "    logging_steps=10,\n",
    "    evaluation_strategy=\"epoch\",\n",
    "    save_strategy=\"epoch\",\n",
    "    load_best_model_at_end=True,\n",
    "    metric_for_best_model=\"accuracy\",\n",
    "    greater_is_better=True,\n",
    "    report_to=\"none\" # set \"wandb\" here to log to wandb\n",
    ")"
   ]
  },
  {
   "cell_type": "markdown",
   "metadata": {},
   "source": [
    "**Wandb Logging**\n",
    "\n",
    "When training ML models, keeping track of various hyperparameters, the training and validation losses, and evaluation metrics is very important.\n",
    "`wandb` can help you here.\n",
    "\n",
    "To install wandb, run following commands in your terminal:\n",
    "\n",
    "```bash\n",
    "pip install wandb\n",
    "# Then login to your wandb account\n",
    "wandb login\n",
    "```\n",
    "\n",
    "Once, that is done, in TrainingArguments, set the `report_to` argument to `wandb`."
   ]
  },
  {
   "cell_type": "code",
   "execution_count": 15,
   "metadata": {},
   "outputs": [],
   "source": [
    "from transformers import Trainer\n",
    "\n",
    "trainer = Trainer(\n",
    "    model,\n",
    "    training_args,\n",
    "    # train_dataset=tokenized_datasets[\"train\"],\n",
    "    # eval_dataset=tokenized_datasets[\"validation\"],\n",
    "    train_dataset=train_data_subset, # Using the smaller subsets\n",
    "    eval_dataset=eval_data_subset,\n",
    "    data_collator=data_collator,\n",
    "    tokenizer=tokenizer,\n",
    "    compute_metrics=compute_metrics,\n",
    ")"
   ]
  },
  {
   "cell_type": "code",
   "execution_count": 16,
   "metadata": {},
   "outputs": [
    {
     "name": "stderr",
     "output_type": "stream",
     "text": [
      "/home/bsantra/miniconda3/envs/py38/lib/python3.8/site-packages/transformers/optimization.py:306: FutureWarning: This implementation of AdamW is deprecated and will be removed in a future version. Use the PyTorch implementation torch.optim.AdamW instead, or set `no_deprecation_warning=True` to disable this warning\n",
      "  warnings.warn(\n",
      "***** Running training *****\n",
      "  Num examples = 4096\n",
      "  Num Epochs = 10\n",
      "  Instantaneous batch size per device = 32\n",
      "  Total train batch size (w. parallel, distributed & accumulation) = 32\n",
      "  Gradient Accumulation steps = 1\n",
      "  Total optimization steps = 1280\n",
      "  Number of trainable parameters = 66999612\n",
      "You're using a DistilBertTokenizerFast tokenizer. Please note that with a fast tokenizer, using the `__call__` method is faster than using a method to encode the text followed by a call to the `pad` method to get a padded encoding.\n"
     ]
    },
    {
     "data": {
      "text/html": [
       "\n",
       "    <div>\n",
       "      \n",
       "      <progress value='1280' max='1280' style='width:300px; height:20px; vertical-align: middle;'></progress>\n",
       "      [1280/1280 01:18, Epoch 10/10]\n",
       "    </div>\n",
       "    <table border=\"1\" class=\"dataframe\">\n",
       "  <thead>\n",
       " <tr style=\"text-align: left;\">\n",
       "      <th>Epoch</th>\n",
       "      <th>Training Loss</th>\n",
       "      <th>Validation Loss</th>\n",
       "      <th>Accuracy</th>\n",
       "    </tr>\n",
       "  </thead>\n",
       "  <tbody>\n",
       "    <tr>\n",
       "      <td>1</td>\n",
       "      <td>2.126600</td>\n",
       "      <td>4.311208</td>\n",
       "      <td>0.205153</td>\n",
       "    </tr>\n",
       "    <tr>\n",
       "      <td>2</td>\n",
       "      <td>1.332600</td>\n",
       "      <td>4.608765</td>\n",
       "      <td>0.259542</td>\n",
       "    </tr>\n",
       "    <tr>\n",
       "      <td>3</td>\n",
       "      <td>0.877300</td>\n",
       "      <td>4.879213</td>\n",
       "      <td>0.278626</td>\n",
       "    </tr>\n",
       "    <tr>\n",
       "      <td>4</td>\n",
       "      <td>0.628700</td>\n",
       "      <td>5.112392</td>\n",
       "      <td>0.292462</td>\n",
       "    </tr>\n",
       "    <tr>\n",
       "      <td>5</td>\n",
       "      <td>0.565800</td>\n",
       "      <td>5.199319</td>\n",
       "      <td>0.304389</td>\n",
       "    </tr>\n",
       "    <tr>\n",
       "      <td>6</td>\n",
       "      <td>0.445600</td>\n",
       "      <td>5.414936</td>\n",
       "      <td>0.302481</td>\n",
       "    </tr>\n",
       "    <tr>\n",
       "      <td>7</td>\n",
       "      <td>0.358800</td>\n",
       "      <td>5.228592</td>\n",
       "      <td>0.311069</td>\n",
       "    </tr>\n",
       "    <tr>\n",
       "      <td>8</td>\n",
       "      <td>0.224900</td>\n",
       "      <td>5.661997</td>\n",
       "      <td>0.306298</td>\n",
       "    </tr>\n",
       "    <tr>\n",
       "      <td>9</td>\n",
       "      <td>0.229100</td>\n",
       "      <td>5.564895</td>\n",
       "      <td>0.307252</td>\n",
       "    </tr>\n",
       "    <tr>\n",
       "      <td>10</td>\n",
       "      <td>0.239900</td>\n",
       "      <td>5.539486</td>\n",
       "      <td>0.310115</td>\n",
       "    </tr>\n",
       "  </tbody>\n",
       "</table><p>"
      ],
      "text/plain": [
       "<IPython.core.display.HTML object>"
      ]
     },
     "metadata": {},
     "output_type": "display_data"
    },
    {
     "name": "stderr",
     "output_type": "stream",
     "text": [
      "***** Running Evaluation *****\n",
      "  Num examples = 2096\n",
      "  Batch size = 32\n",
      "Saving model checkpoint to ./results/checkpoint-128\n",
      "Configuration saved in ./results/checkpoint-128/config.json\n",
      "Model weights saved in ./results/checkpoint-128/pytorch_model.bin\n",
      "tokenizer config file saved in ./results/checkpoint-128/tokenizer_config.json\n",
      "Special tokens file saved in ./results/checkpoint-128/special_tokens_map.json\n",
      "***** Running Evaluation *****\n",
      "  Num examples = 2096\n",
      "  Batch size = 32\n",
      "Saving model checkpoint to ./results/checkpoint-256\n",
      "Configuration saved in ./results/checkpoint-256/config.json\n",
      "Model weights saved in ./results/checkpoint-256/pytorch_model.bin\n",
      "tokenizer config file saved in ./results/checkpoint-256/tokenizer_config.json\n",
      "Special tokens file saved in ./results/checkpoint-256/special_tokens_map.json\n",
      "***** Running Evaluation *****\n",
      "  Num examples = 2096\n",
      "  Batch size = 32\n",
      "Saving model checkpoint to ./results/checkpoint-384\n",
      "Configuration saved in ./results/checkpoint-384/config.json\n",
      "Model weights saved in ./results/checkpoint-384/pytorch_model.bin\n",
      "tokenizer config file saved in ./results/checkpoint-384/tokenizer_config.json\n",
      "Special tokens file saved in ./results/checkpoint-384/special_tokens_map.json\n",
      "***** Running Evaluation *****\n",
      "  Num examples = 2096\n",
      "  Batch size = 32\n",
      "Saving model checkpoint to ./results/checkpoint-512\n",
      "Configuration saved in ./results/checkpoint-512/config.json\n",
      "Model weights saved in ./results/checkpoint-512/pytorch_model.bin\n",
      "tokenizer config file saved in ./results/checkpoint-512/tokenizer_config.json\n",
      "Special tokens file saved in ./results/checkpoint-512/special_tokens_map.json\n",
      "***** Running Evaluation *****\n",
      "  Num examples = 2096\n",
      "  Batch size = 32\n",
      "Saving model checkpoint to ./results/checkpoint-640\n",
      "Configuration saved in ./results/checkpoint-640/config.json\n",
      "Model weights saved in ./results/checkpoint-640/pytorch_model.bin\n",
      "tokenizer config file saved in ./results/checkpoint-640/tokenizer_config.json\n",
      "Special tokens file saved in ./results/checkpoint-640/special_tokens_map.json\n",
      "***** Running Evaluation *****\n",
      "  Num examples = 2096\n",
      "  Batch size = 32\n",
      "Saving model checkpoint to ./results/checkpoint-768\n",
      "Configuration saved in ./results/checkpoint-768/config.json\n",
      "Model weights saved in ./results/checkpoint-768/pytorch_model.bin\n",
      "tokenizer config file saved in ./results/checkpoint-768/tokenizer_config.json\n",
      "Special tokens file saved in ./results/checkpoint-768/special_tokens_map.json\n",
      "***** Running Evaluation *****\n",
      "  Num examples = 2096\n",
      "  Batch size = 32\n",
      "Saving model checkpoint to ./results/checkpoint-896\n",
      "Configuration saved in ./results/checkpoint-896/config.json\n",
      "Model weights saved in ./results/checkpoint-896/pytorch_model.bin\n",
      "tokenizer config file saved in ./results/checkpoint-896/tokenizer_config.json\n",
      "Special tokens file saved in ./results/checkpoint-896/special_tokens_map.json\n",
      "***** Running Evaluation *****\n",
      "  Num examples = 2096\n",
      "  Batch size = 32\n",
      "Saving model checkpoint to ./results/checkpoint-1024\n",
      "Configuration saved in ./results/checkpoint-1024/config.json\n",
      "Model weights saved in ./results/checkpoint-1024/pytorch_model.bin\n",
      "tokenizer config file saved in ./results/checkpoint-1024/tokenizer_config.json\n",
      "Special tokens file saved in ./results/checkpoint-1024/special_tokens_map.json\n",
      "***** Running Evaluation *****\n",
      "  Num examples = 2096\n",
      "  Batch size = 32\n",
      "Saving model checkpoint to ./results/checkpoint-1152\n",
      "Configuration saved in ./results/checkpoint-1152/config.json\n",
      "Model weights saved in ./results/checkpoint-1152/pytorch_model.bin\n",
      "tokenizer config file saved in ./results/checkpoint-1152/tokenizer_config.json\n",
      "Special tokens file saved in ./results/checkpoint-1152/special_tokens_map.json\n",
      "***** Running Evaluation *****\n",
      "  Num examples = 2096\n",
      "  Batch size = 32\n",
      "Saving model checkpoint to ./results/checkpoint-1280\n",
      "Configuration saved in ./results/checkpoint-1280/config.json\n",
      "Model weights saved in ./results/checkpoint-1280/pytorch_model.bin\n",
      "tokenizer config file saved in ./results/checkpoint-1280/tokenizer_config.json\n",
      "Special tokens file saved in ./results/checkpoint-1280/special_tokens_map.json\n",
      "\n",
      "\n",
      "Training completed. Do not forget to share your model on huggingface.co/models =)\n",
      "\n",
      "\n",
      "Loading best model from ./results/checkpoint-896 (score: 0.3110687022900763).\n"
     ]
    }
   ],
   "source": [
    "stats = trainer.train()"
   ]
  },
  {
   "cell_type": "code",
   "execution_count": 17,
   "metadata": {},
   "outputs": [
    {
     "name": "stderr",
     "output_type": "stream",
     "text": [
      "***** Running Evaluation *****\n",
      "  Num examples = 2096\n",
      "  Batch size = 32\n"
     ]
    },
    {
     "data": {
      "text/html": [
       "\n",
       "    <div>\n",
       "      \n",
       "      <progress value='66' max='66' style='width:300px; height:20px; vertical-align: middle;'></progress>\n",
       "      [66/66 00:01]\n",
       "    </div>\n",
       "    "
      ],
      "text/plain": [
       "<IPython.core.display.HTML object>"
      ]
     },
     "metadata": {},
     "output_type": "display_data"
    },
    {
     "name": "stdout",
     "output_type": "stream",
     "text": [
      "{'epoch': 10.0,\n",
      " 'eval_accuracy': 0.3110687022900763,\n",
      " 'eval_loss': 5.2285919189453125,\n",
      " 'eval_runtime': 1.0504,\n",
      " 'eval_samples_per_second': 1995.343,\n",
      " 'eval_steps_per_second': 62.83}\n"
     ]
    }
   ],
   "source": [
    "# Print Stats\n",
    "from pprint import pprint\n",
    "pprint(trainer.evaluate())"
   ]
  },
  {
   "cell_type": "code",
   "execution_count": null,
   "metadata": {},
   "outputs": [],
   "source": []
  }
 ],
 "metadata": {
  "kernelspec": {
   "display_name": "base",
   "language": "python",
   "name": "python3"
  },
  "language_info": {
   "codemirror_mode": {
    "name": "ipython",
    "version": 3
   },
   "file_extension": ".py",
   "mimetype": "text/x-python",
   "name": "python",
   "nbconvert_exporter": "python",
   "pygments_lexer": "ipython3",
   "version": "3.8.13"
  },
  "orig_nbformat": 4
 },
 "nbformat": 4,
 "nbformat_minor": 2
}

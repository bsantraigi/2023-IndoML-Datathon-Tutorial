{
 "cells": [
  {
   "cell_type": "markdown",
   "metadata": {},
   "source": [
    "# IndoML 2023 Tuturial: Part 2\n",
    "## The Era of LLMs!\n",
    "\n",
    "### In-context learning and Prompt Engineering\n",
    "\n",
    "\n",
    "1. We will use recent LLMs like GPT-3/FLAN-T5/LLAMA to query the models in natural language to get answers/predictions.\n",
    "2. These models are finetuned on instructions or human-feedbacks to enable them to perform a task through \"prompting\".\n",
    "3. Best part is we wouldn't need to train our models to get started, direct inference from these pretrained models is fine.\n",
    "    * NOTE: Although there can be methods to finetune these models on our data to get better results, we will not be covering that in this tutorial.\n",
    "\n",
    "### Methods that we will try:\n",
    "\n",
    "1. FLAN-T5"
   ]
  },
  {
   "cell_type": "markdown",
   "metadata": {},
   "source": [
    "## Load `dataset`"
   ]
  },
  {
   "cell_type": "code",
   "execution_count": 1,
   "metadata": {},
   "outputs": [
    {
     "name": "stdout",
     "output_type": "stream",
     "text": [
      "env: CUDA_VISIBLE_DEVICES=3\n"
     ]
    }
   ],
   "source": [
    "%env CUDA_VISIBLE_DEVICES=3"
   ]
  },
  {
   "cell_type": "code",
   "execution_count": 2,
   "metadata": {},
   "outputs": [
    {
     "name": "stderr",
     "output_type": "stream",
     "text": [
      "/nlsasfs/home/ttbhashini/arroy/anaconda3/envs/py38-new/lib/python3.8/site-packages/tqdm/auto.py:21: TqdmWarning: IProgress not found. Please update jupyter and ipywidgets. See https://ipywidgets.readthedocs.io/en/stable/user_install.html\n",
      "  from .autonotebook import tqdm as notebook_tqdm\n"
     ]
    }
   ],
   "source": [
    "from tqdm import tqdm\n",
    "from datasets import load_dataset\n",
    "from transformers import AutoTokenizer, DataCollatorWithPadding\n",
    "\n",
    "tqdm.pandas()\n",
    "\n",
    "dataset = load_dataset(\"AmazonScience/massive\")\n"
   ]
  },
  {
   "cell_type": "markdown",
   "metadata": {},
   "source": [
    "## Load `AutoTokenizer` and `AutoModelForSeq2SeqLM`"
   ]
  },
  {
   "cell_type": "code",
   "execution_count": 3,
   "metadata": {},
   "outputs": [
    {
     "name": "stderr",
     "output_type": "stream",
     "text": [
      "Downloading model.safetensors: 100%|██████████| 6.01G/6.01G [05:22<00:00, 18.6MB/s]\n"
     ]
    }
   ],
   "source": [
    "# pip install -q transformers accelerate bitsandbytes\n",
    "from transformers import AutoTokenizer, AutoModelForCausalLM\n",
    "\n",
    "# checkpoint = \"bigscience/mt0-base\"\n",
    "checkpoint = \"bigscience/bloomz-3b\"\n",
    "# checkpoint = \"google/flan-t5-xxl\"\n",
    "\n",
    "tokenizer = AutoTokenizer.from_pretrained(checkpoint)\n",
    "model = AutoModelForCausalLM.from_pretrained(checkpoint, device_map=\"auto\", load_in_8bit=True)"
   ]
  },
  {
   "cell_type": "markdown",
   "metadata": {},
   "source": [
    "## Model Specific Example of Prompt Engineering"
   ]
  },
  {
   "cell_type": "code",
   "execution_count": 8,
   "metadata": {},
   "outputs": [
    {
     "name": "stderr",
     "output_type": "stream",
     "text": [
      "/nlsasfs/home/ttbhashini/arroy/anaconda3/envs/py38-new/lib/python3.8/site-packages/transformers/generation/utils.py:1254: UserWarning: Using the model-agnostic default `max_length` (=20) to control thegeneration length. We recommend setting `max_new_tokens` to control the maximum length of the generation.\n",
      "  warnings.warn(\n",
      "/nlsasfs/home/ttbhashini/arroy/anaconda3/envs/py38-new/lib/python3.8/site-packages/transformers/generation/utils.py:1262: UserWarning: Input length of input_ids is 22, but `max_length` is set to 20. This can lead to unexpected behavior. You should consider increasing `max_new_tokens`.\n",
      "  warnings.warn(\n"
     ]
    },
    {
     "name": "stdout",
     "output_type": "stream",
     "text": [
      "Detect the intent class of the utterance.\n",
      "Utterance: I am going to school.; Intent: go\n"
     ]
    }
   ],
   "source": [
    "inputs = tokenizer.encode(\"Detect the intent class of the utterance.\\nUtterance: I am going to school.; Intent:\", return_tensors=\"pt\").to(\"cuda\")\n",
    "outputs = model.generate(inputs)\n",
    "print(tokenizer.decode(outputs[0]))"
   ]
  },
  {
   "cell_type": "markdown",
   "metadata": {},
   "source": [
    "## Preprocessing\n",
    "\n",
    "- We will create prompts for each test sample in the dataset. \n",
    "- There are few ways to format these prompt and this step is called \"Prompt Engineering\".\n",
    "    - Few-shot In-context learning: Use task-description and examples\n",
    "    - Zero-shot In-context learning: Use task-description only"
   ]
  },
  {
   "cell_type": "markdown",
   "metadata": {},
   "source": [
    "## Exemplars for the multilingual intent-detection task"
   ]
  },
  {
   "cell_type": "code",
   "execution_count": 5,
   "metadata": {},
   "outputs": [],
   "source": [
    "# Gather examples from the training dataset\n",
    "import pandas as pd\n",
    "df_train = dataset['train'].to_pandas()\n",
    "\n",
    "# Extract one random sample per intent, we will randomly sample the rows\n",
    "# Hope is that the model will predict english labels for any language that way.\n",
    "df_intent_samples = df_train.groupby(\"intent\").apply(lambda x: x.sample(1, random_state=42)).reset_index(drop=True)    "
   ]
  },
  {
   "cell_type": "code",
   "execution_count": 6,
   "metadata": {},
   "outputs": [],
   "source": [
    "# Add formatted prompt for each sample\n",
    "def int2str(x):\n",
    "    return dataset['train'].features['intent'].int2str(x)\n",
    "\n",
    "df_intent_samples['example_prompt_format'] = df_intent_samples.apply(lambda x: f'Utterance: {x[\"utt\"]}; Intent: {int2str(x[\"intent\"])}', axis=1)\n",
    "\n",
    "# merge examples into a single string\n",
    "prompt_exemplars = df_intent_samples['example_prompt_format'].str.cat(sep='\\n')"
   ]
  },
  {
   "cell_type": "code",
   "execution_count": 9,
   "metadata": {},
   "outputs": [
    {
     "name": "stdout",
     "output_type": "stream",
     "text": [
      "Utterance: የዛሬውን ቀን ልትነግሩኝ ትችላላቹ; Intent: datetime_query\n",
      "Utterance: cambia las luces a azul; Intent: iot_hue_lightchange\n",
      "Utterance: je veux un billet de train pour l' oregon; Intent: transport_ticket\n",
      "Utterance: உணவகத்தில் எடுத்துச் செல்லும் வசதி உள்ளதா; Intent: takeaway_query\n",
      "Utterance: berapakah nilai saham apple; Intent: qa_stock\n",
      "Utterance: buna; Intent: general_greet\n",
      "Utterance: olly ni matukio yapi yanafanyika karibu na mimi leo; Intent: recommendation_events\n",
      "Utterance: bu mahnını xoşlamadığımı yadda saxla; Intent: music_dislikeness\n",
      "Utterance: oprește-mi priza wemo acum; Intent: iot_wemo_off\n",
      "Utterance: hvor mange grøntsager burde jeg spise om dagen; Intent: cooking_recipe\n",
      "Utterance: இந்திய ரூபாவுடன் டாலரின் மாற்று விகிதம் என்ன; Intent: qa_currency\n",
      "Utterance: 運輸; Intent: transport_traffic\n",
      "Utterance: چطور پیش می‌رود; Intent: general_quirky\n",
      "Utterance: آج آب و ہوا کیسی ہے; Intent: weather_query\n",
      "Utterance: volumen på musikken der spiller nu skal op; Intent: audio_volume_up\n",
      "Utterance: እባክህ የኤልያስ ሁሴን አድራሻ ኢሜል በ ኤልያስሁሴን አት ያሁ ዶት ኮም አድራሻ መረጃ ጨምር; Intent: email_addcontact\n",
      "Utterance: bestel een medium pizza met salami en spek; Intent: takeaway_order\n",
      "Utterance: est-ce que maman m'a envoyé un texto; Intent: email_querycontact\n",
      "Utterance: ሳሎን ውስጥ መብራቶች ወደላይ ጨምር; Intent: iot_hue_lightup\n",
      "Utterance: jeg vil finne noe kinesisk mat hva er i nærheten; Intent: recommendation_locations\n",
      "Utterance: ponme la canción de mchael jackson del audiolibro; Intent: play_audiobook\n",
      "Utterance: 新しい買い物リストを始める; Intent: lists_createoradd\n",
      "Utterance: براہ کرم مجھے تمام کرونا وائرس معلومات بھیجنا; Intent: news_query\n",
      "Utterance: har jag några larm; Intent: alarm_query\n",
      "Utterance: मेरा wemo प्लग सॉकेट बंद कर दो; Intent: iot_wemo_on\n",
      "Utterance: hibur saya; Intent: general_joke\n",
      "Utterance: স্বাধীনতার মূর্তি বর্ণনা কর; Intent: qa_definition\n",
      "Utterance: tiešsaistes šovu atgādinājumi; Intent: social_query\n",
      "Utterance: միացրու spotify խառը; Intent: music_settings\n",
      "Utterance: ปรับ การ ตั้งค่า เสียง; Intent: audio_volume_other\n",
      "Utterance: remover esse evento do meu calendário; Intent: calendar_remove\n",
      "Utterance: የሳሎኑን መብራቶች አደብዝዝ; Intent: iot_hue_lightdim\n",
      "Utterance: muéstra me todos los recordatorios de la reunión; Intent: calendar_query\n",
      "Utterance: এই সপ্তাহে আবহাওয়া কেমন আছে বাবাকে একটি ইমেল পাঠান; Intent: email_sendemail\n",
      "Utterance: ჩართე მტვერსასრუტი; Intent: iot_cleaning\n",
      "Utterance: scade volumul pentru audio; Intent: audio_volume_down\n",
      "Utterance: በፍሪኪዌንሲ አንድ ላይ ፋና የሚባል የሬዲዮ ጣቢያ ፈልግ; Intent: play_radio\n",
      "Utterance: வான்கோழியை சமைக்க எளிதான மற்றும் விரைவான வழி எது; Intent: cooking_query\n",
      "Utterance: care este diferența de fus orar între locația mea și hong kong; Intent: datetime_convert\n",
      "Utterance: مثلث کا حساب لگانے کا طریقہ; Intent: qa_maths\n",
      "Utterance: voglio spegnere la luce puoi farlo; Intent: iot_hue_lightoff\n",
      "Utterance: olly het is te donker ik kan niet eens mijn handen zien; Intent: iot_hue_lighton\n",
      "Utterance: የ ባቡር መርሃ ግብር; Intent: transport_query\n",
      "Utterance: tämä on hyvä laulu; Intent: music_likeness\n",
      "Utterance: recebi alguma resposta do joão; Intent: email_query\n",
      "Utterance: এলেক্সা ক্লাসিকাল রক বাজাও; Intent: play_music\n",
      "Utterance: sæt volume til nul; Intent: audio_volume_mute\n",
      "Utterance: የጋዝ ሲሊንደር ዘግይቶ መላክን በተመለከተ ኢንዲያ ተጠቃሚዎች የቅሬታ ሸንጎ መድረክ ላይ ቲዊት እንድትያደርጉልኝ እፈልጋለሁ; Intent: social_post\n",
      "Utterance: ահազանգ երեքշաբթի ցերեկը հինգին; Intent: alarm_set\n",
      "Utterance: google hov ett; Intent: qa_factoid\n",
      "Utterance: օրացուցային իրադարձությունն ունի բազմաթիվ մարդիկ; Intent: calendar_set\n",
      "Utterance: abre angry birds; Intent: play_game\n",
      "Utterance: براہ کرم اس الارم کو ہٹا دیں جو میں نے آج صبح کے لیے سیٹ کیا ہے; Intent: alarm_remove\n",
      "Utterance: apri i promemoria; Intent: lists_remove\n",
      "Utterance: ဒီနေ့ည ခုနစ်နာရီ အတွက် အိုးဝေ ကိုကြိုငှားပါ; Intent: transport_taxi\n",
      "Utterance: jakie filmy grają niedaleko; Intent: recommendation_movies\n",
      "Utterance: תכין קפה; Intent: iot_coffee\n",
      "Utterance: näytä minulle kuva laulajasta; Intent: music_query\n",
      "Utterance: নিম্নলিখিত পডকাস্ট পর্ব শুরু; Intent: play_podcasts\n",
      "Utterance: aku pengin ngerti rincian ing dhaptar blanja; Intent: lists_query\n"
     ]
    }
   ],
   "source": [
    "print(prompt_exemplars)"
   ]
  },
  {
   "cell_type": "markdown",
   "metadata": {},
   "source": [
    "## Generate prompts for each query"
   ]
  },
  {
   "cell_type": "code",
   "execution_count": 10,
   "metadata": {},
   "outputs": [
    {
     "name": "stderr",
     "output_type": "stream",
     "text": [
      "Map: 100%|██████████| 103683/103683 [00:18<00:00, 5650.94 examples/s]\n",
      "Map: 100%|██████████| 103683/103683 [00:47<00:00, 2203.93 examples/s]\n"
     ]
    }
   ],
   "source": [
    "# Add a new feature column to the dataset\n",
    "# Prompt: What is the intent of the following sentence?\\m \"{utt}\"\n",
    "\n",
    "few_shot = True\n",
    "def add_prompt(example):\n",
    "    if few_shot:\n",
    "        example[\"prompt\"] = f'# Detect intent of the input utterance.\\n\\n{prompt_exemplars}\\nUtterance: {example[\"utt\"]}; Intent:'\n",
    "    else:\n",
    "        example[\"prompt\"] = f'# Detect intent of the input utterance.\\n\\nUtterance: {example[\"utt\"]}; Intent:'\n",
    "    \n",
    "    example[\"str_label\"] = int2str(example[\"intent\"])\n",
    "    return example\n",
    "\n",
    "\n",
    "extended_eval_set = dataset['validation'].map(add_prompt)"
   ]
  },
  {
   "cell_type": "code",
   "execution_count": 11,
   "metadata": {},
   "outputs": [
    {
     "data": {
      "text/plain": [
       "{'id': '11',\n",
       " 'locale': 'mn-MN',\n",
       " 'partition': 'dev',\n",
       " 'scenario': 8,\n",
       " 'intent': 40,\n",
       " 'utt': 'гэрлийг унтраа',\n",
       " 'annot_utt': 'гэрлийг унтраа',\n",
       " 'worker_id': '5',\n",
       " 'slot_method': {'slot': [], 'method': []},\n",
       " 'judgments': {'worker_id': ['43', '4', '30'],\n",
       "  'intent_score': [1, 1, 1],\n",
       "  'slots_score': [1, 1, 1],\n",
       "  'grammar_score': [4, 3, 4],\n",
       "  'spelling_score': [2, 2, 2],\n",
       "  'language_identification': ['target', 'target', 'target']},\n",
       " 'prompt': \"# Detect intent of the input utterance.\\n\\nUtterance: የዛሬውን ቀን ልትነግሩኝ ትችላላቹ; Intent: datetime_query\\nUtterance: cambia las luces a azul; Intent: iot_hue_lightchange\\nUtterance: je veux un billet de train pour l' oregon; Intent: transport_ticket\\nUtterance: உணவகத்தில் எடுத்துச் செல்லும் வசதி உள்ளதா; Intent: takeaway_query\\nUtterance: berapakah nilai saham apple; Intent: qa_stock\\nUtterance: buna; Intent: general_greet\\nUtterance: olly ni matukio yapi yanafanyika karibu na mimi leo; Intent: recommendation_events\\nUtterance: bu mahnını xoşlamadığımı yadda saxla; Intent: music_dislikeness\\nUtterance: oprește-mi priza wemo acum; Intent: iot_wemo_off\\nUtterance: hvor mange grøntsager burde jeg spise om dagen; Intent: cooking_recipe\\nUtterance: இந்திய ரூபாவுடன் டாலரின் மாற்று விகிதம் என்ன; Intent: qa_currency\\nUtterance: 運輸; Intent: transport_traffic\\nUtterance: چطور پیش می\\u200cرود; Intent: general_quirky\\nUtterance: آج آب و ہوا کیسی ہے; Intent: weather_query\\nUtterance: volumen på musikken der spiller nu skal op; Intent: audio_volume_up\\nUtterance: እባክህ የኤልያስ ሁሴን አድራሻ ኢሜል በ ኤልያስሁሴን አት ያሁ ዶት ኮም አድራሻ መረጃ ጨምር; Intent: email_addcontact\\nUtterance: bestel een medium pizza met salami en spek; Intent: takeaway_order\\nUtterance: est-ce que maman m'a envoyé un texto; Intent: email_querycontact\\nUtterance: ሳሎን ውስጥ መብራቶች ወደላይ ጨምር; Intent: iot_hue_lightup\\nUtterance: jeg vil finne noe kinesisk mat hva er i nærheten; Intent: recommendation_locations\\nUtterance: ponme la canción de mchael jackson del audiolibro; Intent: play_audiobook\\nUtterance: 新しい買い物リストを始める; Intent: lists_createoradd\\nUtterance: براہ کرم مجھے تمام کرونا وائرس معلومات بھیجنا; Intent: news_query\\nUtterance: har jag några larm; Intent: alarm_query\\nUtterance: मेरा wemo प्लग सॉकेट बंद कर दो; Intent: iot_wemo_on\\nUtterance: hibur saya; Intent: general_joke\\nUtterance: স্বাধীনতার মূর্তি বর্ণনা কর; Intent: qa_definition\\nUtterance: tiešsaistes šovu atgādinājumi; Intent: social_query\\nUtterance: միացրու spotify խառը; Intent: music_settings\\nUtterance: ปรับ การ ตั้งค่า เสียง; Intent: audio_volume_other\\nUtterance: remover esse evento do meu calendário; Intent: calendar_remove\\nUtterance: የሳሎኑን መብራቶች አደብዝዝ; Intent: iot_hue_lightdim\\nUtterance: muéstra me todos los recordatorios de la reunión; Intent: calendar_query\\nUtterance: এই সপ্তাহে আবহাওয়া কেমন আছে বাবাকে একটি ইমেল পাঠান; Intent: email_sendemail\\nUtterance: ჩართე მტვერსასრუტი; Intent: iot_cleaning\\nUtterance: scade volumul pentru audio; Intent: audio_volume_down\\nUtterance: በፍሪኪዌንሲ አንድ ላይ ፋና የሚባል የሬዲዮ ጣቢያ ፈልግ; Intent: play_radio\\nUtterance: வான்கோழியை சமைக்க எளிதான மற்றும் விரைவான வழி எது; Intent: cooking_query\\nUtterance: care este diferența de fus orar între locația mea și hong kong; Intent: datetime_convert\\nUtterance: مثلث کا حساب لگانے کا طریقہ; Intent: qa_maths\\nUtterance: voglio spegnere la luce puoi farlo; Intent: iot_hue_lightoff\\nUtterance: olly het is te donker ik kan niet eens mijn handen zien; Intent: iot_hue_lighton\\nUtterance: የ ባቡር መርሃ ግብር; Intent: transport_query\\nUtterance: tämä on hyvä laulu; Intent: music_likeness\\nUtterance: recebi alguma resposta do joão; Intent: email_query\\nUtterance: এলেক্সা ক্লাসিকাল রক বাজাও; Intent: play_music\\nUtterance: sæt volume til nul; Intent: audio_volume_mute\\nUtterance: የጋዝ ሲሊንደር ዘግይቶ መላክን በተመለከተ ኢንዲያ ተጠቃሚዎች የቅሬታ ሸንጎ መድረክ ላይ ቲዊት እንድትያደርጉልኝ እፈልጋለሁ; Intent: social_post\\nUtterance: ահազանգ երեքշաբթի ցերեկը հինգին; Intent: alarm_set\\nUtterance: google hov ett; Intent: qa_factoid\\nUtterance: օրացուցային իրադարձությունն ունի բազմաթիվ մարդիկ; Intent: calendar_set\\nUtterance: abre angry birds; Intent: play_game\\nUtterance: براہ کرم اس الارم کو ہٹا دیں جو میں نے آج صبح کے لیے سیٹ کیا ہے; Intent: alarm_remove\\nUtterance: apri i promemoria; Intent: lists_remove\\nUtterance: ဒီနေ့ည ခုနစ်နာရီ အတွက် အိုးဝေ ကိုကြိုငှားပါ; Intent: transport_taxi\\nUtterance: jakie filmy grają niedaleko; Intent: recommendation_movies\\nUtterance: תכין קפה; Intent: iot_coffee\\nUtterance: näytä minulle kuva laulajasta; Intent: music_query\\nUtterance: নিম্নলিখিত পডকাস্ট পর্ব শুরু; Intent: play_podcasts\\nUtterance: aku pengin ngerti rincian ing dhaptar blanja; Intent: lists_query\\nUtterance: гэрлийг унтраа; Intent:\",\n",
       " 'str_label': 'iot_hue_lightoff'}"
      ]
     },
     "execution_count": 11,
     "metadata": {},
     "output_type": "execute_result"
    }
   ],
   "source": [
    "extended_eval_set[0]"
   ]
  },
  {
   "cell_type": "markdown",
   "metadata": {},
   "source": [
    "## Now let's try to predict using the LLM"
   ]
  },
  {
   "cell_type": "code",
   "execution_count": 25,
   "metadata": {},
   "outputs": [
    {
     "name": "stdout",
     "output_type": "stream",
     "text": [
      "# Detect intent of the input utterance.\n",
      "\n",
      "Utterance: የዛሬውን ቀን ልትነግሩኝ ትችላላቹ; Intent: datetime_query\n",
      "Utterance: cambia las luces a azul; Intent: iot_hue_lightchange\n",
      "Utterance: je veux un billet de train pour l' oregon; Intent: transport_ticket\n",
      "Utterance: உணவகத்தில் எடுத்துச் செல்லும் வசதி உள்ளதா; Intent: takeaway_query\n",
      "Utterance: berapakah nilai saham apple; Intent: qa_stock\n",
      "Utterance: buna; Intent: general_greet\n",
      "Utterance: olly ni matukio yapi yanafanyika karibu na mimi leo; Intent: recommendation_events\n",
      "Utterance: bu mahnını xoşlamadığımı yadda saxla; Intent: music_dislikeness\n",
      "Utterance: oprește-mi priza wemo acum; Intent: iot_wemo_off\n",
      "Utterance: hvor mange grøntsager burde jeg spise om dagen; Intent: cooking_recipe\n",
      "Utterance: இந்திய ரூபாவுடன் டாலரின் மாற்று விகிதம் என்ன; Intent: qa_currency\n",
      "Utterance: 運輸; Intent: transport_traffic\n",
      "Utterance: چطور پیش می‌رود; Intent: general_quirky\n",
      "Utterance: آج آب و ہوا کیسی ہے; Intent: weather_query\n",
      "Utterance: volumen på musikken der spiller nu skal op; Intent: audio_volume_up\n",
      "Utterance: እባክህ የኤልያስ ሁሴን አድራሻ ኢሜል በ ኤልያስሁሴን አት ያሁ ዶት ኮም አድራሻ መረጃ ጨምር; Intent: email_addcontact\n",
      "Utterance: bestel een medium pizza met salami en spek; Intent: takeaway_order\n",
      "Utterance: est-ce que maman m'a envoyé un texto; Intent: email_querycontact\n",
      "Utterance: ሳሎን ውስጥ መብራቶች ወደላይ ጨምር; Intent: iot_hue_lightup\n",
      "Utterance: jeg vil finne noe kinesisk mat hva er i nærheten; Intent: recommendation_locations\n",
      "Utterance: ponme la canción de mchael jackson del audiolibro; Intent: play_audiobook\n",
      "Utterance: 新しい買い物リストを始める; Intent: lists_createoradd\n",
      "Utterance: براہ کرم مجھے تمام کرونا وائرس معلومات بھیجنا; Intent: news_query\n",
      "Utterance: har jag några larm; Intent: alarm_query\n",
      "Utterance: मेरा wemo प्लग सॉकेट बंद कर दो; Intent: iot_wemo_on\n",
      "Utterance: hibur saya; Intent: general_joke\n",
      "Utterance: স্বাধীনতার মূর্তি বর্ণনা কর; Intent: qa_definition\n",
      "Utterance: tiešsaistes šovu atgādinājumi; Intent: social_query\n",
      "Utterance: միացրու spotify խառը; Intent: music_settings\n",
      "Utterance: ปรับ การ ตั้งค่า เสียง; Intent: audio_volume_other\n",
      "Utterance: remover esse evento do meu calendário; Intent: calendar_remove\n",
      "Utterance: የሳሎኑን መብራቶች አደብዝዝ; Intent: iot_hue_lightdim\n",
      "Utterance: muéstra me todos los recordatorios de la reunión; Intent: calendar_query\n",
      "Utterance: এই সপ্তাহে আবহাওয়া কেমন আছে বাবাকে একটি ইমেল পাঠান; Intent: email_sendemail\n",
      "Utterance: ჩართე მტვერსასრუტი; Intent: iot_cleaning\n",
      "Utterance: scade volumul pentru audio; Intent: audio_volume_down\n",
      "Utterance: በፍሪኪዌንሲ አንድ ላይ ፋና የሚባል የሬዲዮ ጣቢያ ፈልግ; Intent: play_radio\n",
      "Utterance: வான்கோழியை சமைக்க எளிதான மற்றும் விரைவான வழி எது; Intent: cooking_query\n",
      "Utterance: care este diferența de fus orar între locația mea și hong kong; Intent: datetime_convert\n",
      "Utterance: مثلث کا حساب لگانے کا طریقہ; Intent: qa_maths\n",
      "Utterance: voglio spegnere la luce puoi farlo; Intent: iot_hue_lightoff\n",
      "Utterance: olly het is te donker ik kan niet eens mijn handen zien; Intent: iot_hue_lighton\n",
      "Utterance: የ ባቡር መርሃ ግብር; Intent: transport_query\n",
      "Utterance: tämä on hyvä laulu; Intent: music_likeness\n",
      "Utterance: recebi alguma resposta do joão; Intent: email_query\n",
      "Utterance: এলেক্সা ক্লাসিকাল রক বাজাও; Intent: play_music\n",
      "Utterance: sæt volume til nul; Intent: audio_volume_mute\n",
      "Utterance: የጋዝ ሲሊንደር ዘግይቶ መላክን በተመለከተ ኢንዲያ ተጠቃሚዎች የቅሬታ ሸንጎ መድረክ ላይ ቲዊት እንድትያደርጉልኝ እፈልጋለሁ; Intent: social_post\n",
      "Utterance: ահազանգ երեքշաբթի ցերեկը հինգին; Intent: alarm_set\n",
      "Utterance: google hov ett; Intent: qa_factoid\n",
      "Utterance: օրացուցային իրադարձությունն ունի բազմաթիվ մարդիկ; Intent: calendar_set\n",
      "Utterance: abre angry birds; Intent: play_game\n",
      "Utterance: براہ کرم اس الارم کو ہٹا دیں جو میں نے آج صبح کے لیے سیٹ کیا ہے; Intent: alarm_remove\n",
      "Utterance: apri i promemoria; Intent: lists_remove\n",
      "Utterance: ဒီနေ့ည ခုနစ်နာရီ အတွက် အိုးဝေ ကိုကြိုငှားပါ; Intent: transport_taxi\n",
      "Utterance: jakie filmy grają niedaleko; Intent: recommendation_movies\n",
      "Utterance: תכין קפה; Intent: iot_coffee\n",
      "Utterance: näytä minulle kuva laulajasta; Intent: music_query\n",
      "Utterance: নিম্নলিখিত পডকাস্ট পর্ব শুরু; Intent: play_podcasts\n",
      "Utterance: aku pengin ngerti rincian ing dhaptar blanja; Intent: lists_query\n",
      "Utterance: яг одоо кофе бэлд; Intent:\n",
      "# Detect intent of the input utterance.\n",
      "\n",
      "Utterance: የዛሬውን ቀን ልትነግሩኝ ትችላላቹ; Intent: datetime_query\n",
      "Utterance: cambia las luces a azul; Intent: iot_hue_lightchange\n",
      "Utterance: je veux un billet de train pour l' oregon; Intent: transport_ticket\n",
      "Utterance: உணவகத்தில் எடுத்துச் செல்லும் வசதி உள்ளதா; Intent: takeaway_query\n",
      "Utterance: berapakah nilai saham apple; Intent: qa_stock\n",
      "Utterance: buna; Intent: general_greet\n",
      "Utterance: olly ni matukio yapi yanafanyika karibu na mimi leo; Intent: recommendation_events\n",
      "Utterance: bu mahnını xoşlamadığımı yadda saxla; Intent: music_dislikeness\n",
      "Utterance: oprește-mi priza wemo acum; Intent: iot_wemo_off\n",
      "Utterance: hvor mange grøntsager burde jeg spise om dagen; Intent: cooking_recipe\n",
      "Utterance: இந்திய ரூபாவுடன் டாலரின் மாற்று விகிதம் என்ன; Intent: qa_currency\n",
      "Utterance: 運輸; Intent: transport_traffic\n",
      "Utterance: چطور پیش می‌رود; Intent: general_quirky\n",
      "Utterance: آج آب و ہوا کیسی ہے; Intent: weather_query\n",
      "Utterance: volumen på musikken der spiller nu skal op; Intent: audio_volume_up\n",
      "Utterance: እባክህ የኤልያስ ሁሴን አድራሻ ኢሜል በ ኤልያስሁሴን አት ያሁ ዶት ኮም አድራሻ መረጃ ጨምር; Intent: email_addcontact\n",
      "Utterance: bestel een medium pizza met salami en spek; Intent: takeaway_order\n",
      "Utterance: est-ce que maman m'a envoyé un texto; Intent: email_querycontact\n",
      "Utterance: ሳሎን ውስጥ መብራቶች ወደላይ ጨምር; Intent: iot_hue_lightup\n",
      "Utterance: jeg vil finne noe kinesisk mat hva er i nærheten; Intent: recommendation_locations\n",
      "Utterance: ponme la canción de mchael jackson del audiolibro; Intent: play_audiobook\n",
      "Utterance: 新しい買い物リストを始める; Intent: lists_createoradd\n",
      "Utterance: براہ کرم مجھے تمام کرونا وائرس معلومات بھیجنا; Intent: news_query\n",
      "Utterance: har jag några larm; Intent: alarm_query\n",
      "Utterance: मेरा wemo प्लग सॉकेट बंद कर दो; Intent: iot_wemo_on\n",
      "Utterance: hibur saya; Intent: general_joke\n",
      "Utterance: স্বাধীনতার মূর্তি বর্ণনা কর; Intent: qa_definition\n",
      "Utterance: tiešsaistes šovu atgādinājumi; Intent: social_query\n",
      "Utterance: միացրու spotify խառը; Intent: music_settings\n",
      "Utterance: ปรับ การ ตั้งค่า เสียง; Intent: audio_volume_other\n",
      "Utterance: remover esse evento do meu calendário; Intent: calendar_remove\n",
      "Utterance: የሳሎኑን መብራቶች አደብዝዝ; Intent: iot_hue_lightdim\n",
      "Utterance: muéstra me todos los recordatorios de la reunión; Intent: calendar_query\n",
      "Utterance: এই সপ্তাহে আবহাওয়া কেমন আছে বাবাকে একটি ইমেল পাঠান; Intent: email_sendemail\n",
      "Utterance: ჩართე მტვერსასრუტი; Intent: iot_cleaning\n",
      "Utterance: scade volumul pentru audio; Intent: audio_volume_down\n",
      "Utterance: በፍሪኪዌንሲ አንድ ላይ ፋና የሚባል የሬዲዮ ጣቢያ ፈልግ; Intent: play_radio\n",
      "Utterance: வான்கோழியை சமைக்க எளிதான மற்றும் விரைவான வழி எது; Intent: cooking_query\n",
      "Utterance: care este diferența de fus orar între locația mea și hong kong; Intent: datetime_convert\n",
      "Utterance: مثلث کا حساب لگانے کا طریقہ; Intent: qa_maths\n",
      "Utterance: voglio spegnere la luce puoi farlo; Intent: iot_hue_lightoff\n",
      "Utterance: olly het is te donker ik kan niet eens mijn handen zien; Intent: iot_hue_lighton\n",
      "Utterance: የ ባቡር መርሃ ግብር; Intent: transport_query\n",
      "Utterance: tämä on hyvä laulu; Intent: music_likeness\n",
      "Utterance: recebi alguma resposta do joão; Intent: email_query\n",
      "Utterance: এলেক্সা ক্লাসিকাল রক বাজাও; Intent: play_music\n",
      "Utterance: sæt volume til nul; Intent: audio_volume_mute\n",
      "Utterance: የጋዝ ሲሊንደር ዘግይቶ መላክን በተመለከተ ኢንዲያ ተጠቃሚዎች የቅሬታ ሸንጎ መድረክ ላይ ቲዊት እንድትያደርጉልኝ እፈልጋለሁ; Intent: social_post\n",
      "Utterance: ահազանգ երեքշաբթի ցերեկը հինգին; Intent: alarm_set\n",
      "Utterance: google hov ett; Intent: qa_factoid\n",
      "Utterance: օրացուցային իրադարձությունն ունի բազմաթիվ մարդիկ; Intent: calendar_set\n",
      "Utterance: abre angry birds; Intent: play_game\n",
      "Utterance: براہ کرم اس الارم کو ہٹا دیں جو میں نے آج صبح کے لیے سیٹ کیا ہے; Intent: alarm_remove\n",
      "Utterance: apri i promemoria; Intent: lists_remove\n",
      "Utterance: ဒီနေ့ည ခုနစ်နာရီ အတွက် အိုးဝေ ကိုကြိုငှားပါ; Intent: transport_taxi\n",
      "Utterance: jakie filmy grają niedaleko; Intent: recommendation_movies\n",
      "Utterance: תכין קפה; Intent: iot_coffee\n",
      "Utterance: näytä minulle kuva laulajasta; Intent: music_query\n",
      "Utterance: নিম্নলিখিত পডকাস্ট পর্ব শুরু; Intent: play_podcasts\n",
      "Utterance: aku pengin ngerti rincian ing dhaptar blanja; Intent: lists_query\n",
      "Utterance: яг одоо кофе бэлд; Intent: food_query\n"
     ]
    }
   ],
   "source": [
    "print(extended_eval_set[100]['prompt'])\n",
    "\n",
    "x = extended_eval_set[100]['prompt']\n",
    "tok_x = tokenizer(x, return_tensors=\"pt\")\n",
    "y = model.generate(tok_x['input_ids'].to(\"cuda\"), num_beams=5, num_return_sequences=5, max_length=2000)\n",
    "output = tokenizer.decode(y[0], skip_special_tokens=True)\n",
    "print(output)"
   ]
  },
  {
   "cell_type": "code",
   "execution_count": 31,
   "metadata": {},
   "outputs": [],
   "source": [
    "N_class = dataset['train'].features['intent'].num_classes\n",
    "str2int = {}\n",
    "for i in range(N_class):\n",
    "    str2int[int2str(i)] = i\n",
    "\n",
    "def parse_prediction(prompt, output_txt):\n",
    "    # take the diff between the prompt and the generated text\n",
    "    # cut it till the first \\n\n",
    "    pred_class = output_txt[len(prompt):].split('\\n')[0].strip()\n",
    "    print(pred_class)\n",
    "\n",
    "    # Check if it matches any label in the dataset\n",
    "    if pred_class in str2int:\n",
    "        return str2int[pred_class], int2str(pred_class)\n",
    "    else:\n",
    "        return -1, pred_class"
   ]
  },
  {
   "cell_type": "code",
   "execution_count": 32,
   "metadata": {},
   "outputs": [
    {
     "name": "stdout",
     "output_type": "stream",
     "text": [
      "food_query\n"
     ]
    },
    {
     "data": {
      "text/plain": [
       "(-1, 'food_query')"
      ]
     },
     "execution_count": 32,
     "metadata": {},
     "output_type": "execute_result"
    }
   ],
   "source": [
    "parse_prediction(x, output)"
   ]
  },
  {
   "cell_type": "markdown",
   "metadata": {},
   "source": [
    "## Setup Evaluation Metric"
   ]
  },
  {
   "cell_type": "code",
   "execution_count": 33,
   "metadata": {},
   "outputs": [],
   "source": [
    "import numpy as np\n",
    "import evaluate\n",
    "\n",
    "metric_acc = evaluate.load(\"accuracy\")\n",
    "metric_f1 = evaluate.load(\"f1\")\n",
    "\n",
    "# We need to define a compute_metric function that is supported by the Trainer output\n",
    "# It basically converts the logits to predictions and then calls the metric\n",
    "def compute_metrics(eval_pred):\n",
    "    logits, labels = eval_pred\n",
    "    predictions = np.argmax(logits, axis=-1)\n",
    "    # print(\"Predictions: \", predictions)\n",
    "    # print(\"Labels: \", labels)\n",
    "    return metric_f1.compute(predictions=predictions, references=labels, average=\"macro\")"
   ]
  },
  {
   "cell_type": "code",
   "execution_count": null,
   "metadata": {},
   "outputs": [],
   "source": []
  }
 ],
 "metadata": {
  "kernelspec": {
   "display_name": "Python (py38-new)",
   "language": "python",
   "name": "py38-new"
  },
  "language_info": {
   "codemirror_mode": {
    "name": "ipython",
    "version": 3
   },
   "file_extension": ".py",
   "mimetype": "text/x-python",
   "name": "python",
   "nbconvert_exporter": "python",
   "pygments_lexer": "ipython3",
   "version": "3.8.17"
  }
 },
 "nbformat": 4,
 "nbformat_minor": 4
}

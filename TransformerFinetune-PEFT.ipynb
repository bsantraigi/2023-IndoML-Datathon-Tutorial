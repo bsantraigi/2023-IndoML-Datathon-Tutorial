{
 "cells": [
  {
   "cell_type": "markdown",
   "metadata": {},
   "source": [
    "# IndoML 2023 Tuturial: Part 2\n",
    "## At Sesame street\n",
    "\n",
    "### Plan:\n",
    "\n",
    "1. We will use Huggingface transformers for finetuning pretrained models.\n",
    "2. This will allow us to easily swap out models to find the most suitable one.\n",
    "    * This is achieved using the `AutoModel*` and `AutoTokenizer` classes.\n",
    "3. It also comes with various new libraries integrated for efficient fine-tuning, \n",
    "multi-gpu or distributed training, and more.\n",
    "\n",
    "### Methods that we will try:\n",
    "\n",
    "1. DistilBERT\n",
    "2. mBERT/distilmBERT (multilingual)\n",
    "3. XLM-RoBERTa (multilingual)\n",
    "4. DeBERTa (multilingual)\n",
    "\n",
    "### Efficient Training\n",
    "\n",
    "1. Linear Probing\n",
    "2. PEFT\n",
    "3. Distilled Models\n",
    "\n",
    "### Libraries to explore\n",
    "\n",
    "1. 🤗 Transfomers > Trainer\n",
    "2. 🤗 Evaluate\n",
    "2. wandb"
   ]
  },
  {
   "cell_type": "markdown",
   "metadata": {},
   "source": [
    "## Load `dataset`"
   ]
  },
  {
   "cell_type": "code",
   "execution_count": 1,
   "metadata": {},
   "outputs": [
    {
     "name": "stderr",
     "output_type": "stream",
     "text": [
      "/home/bsantra/miniconda3/envs/py38/lib/python3.8/site-packages/tqdm/auto.py:22: TqdmWarning: IProgress not found. Please update jupyter and ipywidgets. See https://ipywidgets.readthedocs.io/en/stable/user_install.html\n",
      "  from .autonotebook import tqdm as notebook_tqdm\n",
      "2023-08-25 12:45:31.499697: I tensorflow/core/platform/cpu_feature_guard.cc:182] This TensorFlow binary is optimized to use available CPU instructions in performance-critical operations.\n",
      "To enable the following instructions: AVX2 FMA, in other operations, rebuild TensorFlow with the appropriate compiler flags.\n",
      "2023-08-25 12:45:32.251859: W tensorflow/compiler/tf2tensorrt/utils/py_utils.cc:38] TF-TRT Warning: Could not find TensorRT\n"
     ]
    }
   ],
   "source": [
    "from tqdm import tqdm\n",
    "from datasets import load_dataset\n",
    "from transformers import AutoTokenizer, DataCollatorWithPadding\n",
    "\n",
    "tqdm.pandas()\n",
    "\n",
    "dataset = load_dataset(\"AmazonScience/massive\")\n"
   ]
  },
  {
   "cell_type": "markdown",
   "metadata": {},
   "source": [
    "## Load `AutoTokenizer`"
   ]
  },
  {
   "cell_type": "code",
   "execution_count": 2,
   "metadata": {},
   "outputs": [],
   "source": [
    "checkpoint = \"bert-base-multilingual-cased\"\n",
    "tokenizer = AutoTokenizer.from_pretrained(checkpoint)\n",
    "\n",
    "\n",
    "def tokenize_function(example):\n",
    "    return tokenizer(example[\"utt\"], truncation=True)\n",
    "\n"
   ]
  },
  {
   "cell_type": "markdown",
   "metadata": {},
   "source": [
    "## Preprocessing\n",
    "\n",
    "### Using the Trainer class\n",
    "\n",
    "We will be using the HF Trainer class to handle a lot of the boilerplate tasks. This Trainer class expects certain format for the dataset.\n",
    "\n",
    "1. Tokenize the dataset\n",
    "2. A \"labels\" column should exits"
   ]
  },
  {
   "cell_type": "code",
   "execution_count": 3,
   "metadata": {},
   "outputs": [],
   "source": [
    "tokenized_datasets = dataset.map(tokenize_function, batched=True)"
   ]
  },
  {
   "cell_type": "code",
   "execution_count": 4,
   "metadata": {},
   "outputs": [],
   "source": [
    "data_collator = DataCollatorWithPadding(tokenizer=tokenizer)"
   ]
  },
  {
   "cell_type": "code",
   "execution_count": 5,
   "metadata": {},
   "outputs": [
    {
     "data": {
      "text/plain": [
       "dict_keys(['id', 'locale', 'partition', 'scenario', 'intent', 'utt', 'annot_utt', 'worker_id', 'slot_method', 'judgments', 'input_ids', 'attention_mask'])"
      ]
     },
     "execution_count": 5,
     "metadata": {},
     "output_type": "execute_result"
    }
   ],
   "source": [
    "tokenized_datasets['train'][0].keys()"
   ]
  },
  {
   "cell_type": "code",
   "execution_count": 6,
   "metadata": {},
   "outputs": [],
   "source": [
    "# Remove columns that are not needed\n",
    "to_remove = list(tokenized_datasets['train'][0].keys())\n",
    "\n",
    "# Don't remove these columns\n",
    "to_remove.remove('input_ids')\n",
    "to_remove.remove('attention_mask')\n",
    "to_remove.remove('intent')\n",
    "\n",
    "tokenized_datasets = tokenized_datasets.remove_columns(to_remove)\n",
    "tokenized_datasets = tokenized_datasets.rename_column('intent', 'labels')\n"
   ]
  },
  {
   "cell_type": "code",
   "execution_count": 7,
   "metadata": {},
   "outputs": [
    {
     "data": {
      "text/plain": [
       "{'labels': ClassLabel(names=['datetime_query', 'iot_hue_lightchange', 'transport_ticket', 'takeaway_query', 'qa_stock', 'general_greet', 'recommendation_events', 'music_dislikeness', 'iot_wemo_off', 'cooking_recipe', 'qa_currency', 'transport_traffic', 'general_quirky', 'weather_query', 'audio_volume_up', 'email_addcontact', 'takeaway_order', 'email_querycontact', 'iot_hue_lightup', 'recommendation_locations', 'play_audiobook', 'lists_createoradd', 'news_query', 'alarm_query', 'iot_wemo_on', 'general_joke', 'qa_definition', 'social_query', 'music_settings', 'audio_volume_other', 'calendar_remove', 'iot_hue_lightdim', 'calendar_query', 'email_sendemail', 'iot_cleaning', 'audio_volume_down', 'play_radio', 'cooking_query', 'datetime_convert', 'qa_maths', 'iot_hue_lightoff', 'iot_hue_lighton', 'transport_query', 'music_likeness', 'email_query', 'play_music', 'audio_volume_mute', 'social_post', 'alarm_set', 'qa_factoid', 'calendar_set', 'play_game', 'alarm_remove', 'lists_remove', 'transport_taxi', 'recommendation_movies', 'iot_coffee', 'music_query', 'play_podcasts', 'lists_query'], id=None),\n",
       " 'input_ids': Sequence(feature=Value(dtype='int32', id=None), length=-1, id=None),\n",
       " 'attention_mask': Sequence(feature=Value(dtype='int8', id=None), length=-1, id=None)}"
      ]
     },
     "execution_count": 7,
     "metadata": {},
     "output_type": "execute_result"
    }
   ],
   "source": [
    "tokenized_datasets['train'].features"
   ]
  },
  {
   "cell_type": "code",
   "execution_count": null,
   "metadata": {},
   "outputs": [],
   "source": []
  },
  {
   "cell_type": "markdown",
   "metadata": {},
   "source": [
    "## Dataloaders [Optional]\n",
    "\n",
    "- Instead of going through individual samples in the dataset, we would like to \n",
    "batches of samples to train our model. \n",
    "- Dataloader\n",
    "    1. Creates an \"iterator\" over the dataset, which returns a batch of samples every turn\n",
    "    2. Handles shuffling\n",
    "    3. Collates samples into batches, by padding the input sequences to the maximum length in the batch"
   ]
  },
  {
   "cell_type": "code",
   "execution_count": 8,
   "metadata": {},
   "outputs": [],
   "source": [
    "# from torch.utils.data import DataLoader\n",
    "\n",
    "# train_dataloader = DataLoader(\n",
    "#     tokenized_datasets[\"train\"], shuffle=True, batch_size=8, collate_fn=data_collator\n",
    "# )\n",
    "# eval_dataloader = DataLoader(\n",
    "#     tokenized_datasets[\"validation\"], batch_size=8, collate_fn=data_collator\n",
    "# )"
   ]
  },
  {
   "cell_type": "code",
   "execution_count": 9,
   "metadata": {},
   "outputs": [],
   "source": [
    "# Check the shape of the tensors\n",
    "# for batch in tqdm(train_dataloader):\n",
    "#     break\n",
    "# {k: v.shape for k, v in batch.items()}"
   ]
  },
  {
   "cell_type": "markdown",
   "metadata": {},
   "source": [
    "```python\n",
    "{'labels': torch.Size([8]),\n",
    " 'input_ids': torch.Size([8, 25]),\n",
    " 'attention_mask': torch.Size([8, 25])}\n",
    "```"
   ]
  },
  {
   "cell_type": "markdown",
   "metadata": {},
   "source": [
    "## Load model using an `AutoModel`"
   ]
  },
  {
   "cell_type": "code",
   "execution_count": 10,
   "metadata": {},
   "outputs": [
    {
     "name": "stderr",
     "output_type": "stream",
     "text": [
      "Some weights of the model checkpoint at distilbert-base-uncased were not used when initializing DistilBertForSequenceClassification: ['vocab_projector.bias', 'vocab_transform.weight', 'vocab_layer_norm.bias', 'vocab_transform.bias', 'vocab_layer_norm.weight']\n",
      "- This IS expected if you are initializing DistilBertForSequenceClassification from the checkpoint of a model trained on another task or with another architecture (e.g. initializing a BertForSequenceClassification model from a BertForPreTraining model).\n",
      "- This IS NOT expected if you are initializing DistilBertForSequenceClassification from the checkpoint of a model that you expect to be exactly identical (initializing a BertForSequenceClassification model from a BertForSequenceClassification model).\n",
      "Some weights of DistilBertForSequenceClassification were not initialized from the model checkpoint at distilbert-base-uncased and are newly initialized: ['pre_classifier.weight', 'classifier.weight', 'classifier.bias', 'pre_classifier.bias']\n",
      "You should probably TRAIN this model on a down-stream task to be able to use it for predictions and inference.\n"
     ]
    }
   ],
   "source": [
    "from transformers import AutoModelForSequenceClassification\n",
    "\n",
    "model = AutoModelForSequenceClassification.from_pretrained(checkpoint, num_labels=tokenized_datasets['train'].features['labels'].num_classes)"
   ]
  },
  {
   "cell_type": "code",
   "execution_count": 11,
   "metadata": {},
   "outputs": [
    {
     "data": {
      "text/plain": [
       "DistilBertForSequenceClassification(\n",
       "  (distilbert): DistilBertModel(\n",
       "    (embeddings): Embeddings(\n",
       "      (word_embeddings): Embedding(30522, 768, padding_idx=0)\n",
       "      (position_embeddings): Embedding(512, 768)\n",
       "      (LayerNorm): LayerNorm((768,), eps=1e-12, elementwise_affine=True)\n",
       "      (dropout): Dropout(p=0.1, inplace=False)\n",
       "    )\n",
       "    (transformer): Transformer(\n",
       "      (layer): ModuleList(\n",
       "        (0-5): 6 x TransformerBlock(\n",
       "          (attention): MultiHeadSelfAttention(\n",
       "            (dropout): Dropout(p=0.1, inplace=False)\n",
       "            (q_lin): Linear(in_features=768, out_features=768, bias=True)\n",
       "            (k_lin): Linear(in_features=768, out_features=768, bias=True)\n",
       "            (v_lin): Linear(in_features=768, out_features=768, bias=True)\n",
       "            (out_lin): Linear(in_features=768, out_features=768, bias=True)\n",
       "          )\n",
       "          (sa_layer_norm): LayerNorm((768,), eps=1e-12, elementwise_affine=True)\n",
       "          (ffn): FFN(\n",
       "            (dropout): Dropout(p=0.1, inplace=False)\n",
       "            (lin1): Linear(in_features=768, out_features=3072, bias=True)\n",
       "            (lin2): Linear(in_features=3072, out_features=768, bias=True)\n",
       "            (activation): GELUActivation()\n",
       "          )\n",
       "          (output_layer_norm): LayerNorm((768,), eps=1e-12, elementwise_affine=True)\n",
       "        )\n",
       "      )\n",
       "    )\n",
       "  )\n",
       "  (pre_classifier): Linear(in_features=768, out_features=768, bias=True)\n",
       "  (classifier): Linear(in_features=768, out_features=60, bias=True)\n",
       "  (dropout): Dropout(p=0.2, inplace=False)\n",
       ")"
      ]
     },
     "execution_count": 11,
     "metadata": {},
     "output_type": "execute_result"
    }
   ],
   "source": [
    "model"
   ]
  },
  {
   "cell_type": "code",
   "execution_count": 12,
   "metadata": {},
   "outputs": [
    {
     "name": "stdout",
     "output_type": "stream",
     "text": [
      "trainable params: 2,676,216 || all params: 69,039,096 || trainable%: 3.876377523830845\n"
     ]
    }
   ],
   "source": [
    "from peft import get_peft_config, get_peft_model, LoraConfig, TaskType\n",
    "\n",
    "peft_config = LoraConfig(\n",
    "    task_type=TaskType.SEQ_CLS, \n",
    "    inference_mode=False, \n",
    "    r=16, \n",
    "    lora_alpha=16, \n",
    "    lora_dropout=0.1, \n",
    "    bias=\"none\", \n",
    "    target_modules=[\"q_lin\", \"k_lin\", \"v_lin\", \"out_lin\", \"pre_classifier\", \"lin1\", \"lin2\", \"classifier\"]\n",
    ")\n",
    "\n",
    "# model = AutoModelForSeq2SeqLM.from_pretrained(model_name_or_path)\n",
    "model = get_peft_model(model, peft_config)\n",
    "model.print_trainable_parameters()"
   ]
  },
  {
   "cell_type": "code",
   "execution_count": 13,
   "metadata": {},
   "outputs": [
    {
     "data": {
      "text/plain": [
       "{'classifier', 'score'}"
      ]
     },
     "execution_count": 13,
     "metadata": {},
     "output_type": "execute_result"
    }
   ],
   "source": [
    "model.modules_to_save"
   ]
  },
  {
   "cell_type": "code",
   "execution_count": 14,
   "metadata": {},
   "outputs": [],
   "source": [
    "# # Let's check the output of a single forward pass\n",
    "# outputs = model(**batch)\n",
    "# print(outputs.loss, outputs.logits.shape)"
   ]
  },
  {
   "cell_type": "markdown",
   "metadata": {},
   "source": [
    "## Setup Evaluation Metric"
   ]
  },
  {
   "cell_type": "code",
   "execution_count": null,
   "metadata": {},
   "outputs": [],
   "source": [
    "import numpy as np\n",
    "import evaluate\n",
    "\n",
    "metric_acc = evaluate.load(\"accuracy\")\n",
    "metric_f1 = evaluate.load(\"f1\")\n",
    "\n",
    "# We need to define a compute_metric function that is supported by the Trainer output\n",
    "# It basically converts the logits to predictions and then calls the metric\n",
    "def compute_metrics(eval_pred):\n",
    "    logits, labels = eval_pred\n",
    "    predictions = np.argmax(logits, axis=-1)\n",
    "    print(\"Predictions: \", predictions)\n",
    "    print(\"Labels: \", labels)\n",
    "    return {\n",
    "        \"accuracy\": metric_acc.compute(predictions=predictions, references=labels), \n",
    "        \"micro_f1\": metric_f1.compute(predictions=predictions, references=labels, average=\"micro\"),\n",
    "        \"macro_f1\": metric_f1.compute(predictions=predictions, references=labels, average=\"macro\")\n",
    "    }"
   ]
  },
  {
   "cell_type": "code",
   "execution_count": 47,
   "metadata": {},
   "outputs": [
    {
     "name": "stdout",
     "output_type": "stream",
     "text": [
      "Predictions:  [1 1 1 2 1]\n",
      "Labels:  [0, 1, 0, 2, 1]\n"
     ]
    },
    {
     "data": {
      "text/plain": [
       "{'accuracy': {'accuracy': 0.6},\n",
       " 'micro_f1': {'f1': 0.6},\n",
       " 'macro_f1': {'f1': 0.5555555555555555}}"
      ]
     },
     "execution_count": 47,
     "metadata": {},
     "output_type": "execute_result"
    }
   ],
   "source": [
    "compute_metrics((\n",
    "    [\n",
    "        [0.1, 0.5, 0.4], \n",
    "        [0.3, 0.4, 0.3], \n",
    "        [0.2, 0.6, 0.2], \n",
    "        [0.1, 0.2, 0.7], \n",
    "        [0.2, 0.5, 0.3]\n",
    "    ],\n",
    "    [0, 1, 0, 2, 1] \n",
    "))"
   ]
  },
  {
   "cell_type": "code",
   "execution_count": 17,
   "metadata": {},
   "outputs": [],
   "source": [
    "train_data_subset = tokenized_datasets[\"train\"] # .select(range(40960))\n",
    "eval_data_subset = tokenized_datasets[\"validation\"] #.select(range(2096))"
   ]
  },
  {
   "cell_type": "markdown",
   "metadata": {},
   "source": [
    "## Setup Trainer and Finetuning\n",
    "\n",
    "1. When testing your code for the first time, it is a better idea to use a smaller dataset,\n",
    "so that you can quickly iterate over your code.\n",
    "2. We have done the same here by using 128 + 32 samples from the dataset, for training and validation respectively."
   ]
  },
  {
   "cell_type": "code",
   "execution_count": 18,
   "metadata": {},
   "outputs": [],
   "source": [
    "from transformers import TrainingArguments\n",
    "eval_steps = 5000\n",
    "training_args = TrainingArguments(\n",
    "    output_dir=\"./results\",\n",
    "    num_train_epochs=10,\n",
    "    per_device_train_batch_size=32,\n",
    "    per_device_eval_batch_size=32,\n",
    "    # warmup_steps=500,\n",
    "    # weight_decay=0.01,\n",
    "    logging_dir=\"./logs\",\n",
    "    logging_steps=10,\n",
    "    evaluation_strategy=\"steps\",\n",
    "    save_strategy=\"steps\",\n",
    "    save_steps=eval_steps,\n",
    "    eval_steps=eval_steps,\n",
    "    load_best_model_at_end=True,\n",
    "    metric_for_best_model=\"micro_f1\",\n",
    "    greater_is_better=True,\n",
    "    report_to=\"none\" # set \"wandb\" here to log to wandb\n",
    "    # report_to=\"wandb\"\n",
    ")"
   ]
  },
  {
   "cell_type": "markdown",
   "metadata": {},
   "source": [
    "**Wandb Logging**\n",
    "\n",
    "When training ML models, keeping track of various hyperparameters, the training and validation losses, and evaluation metrics is very important.\n",
    "`wandb` can help you here.\n",
    "\n",
    "To install wandb, run following commands in your terminal:\n",
    "\n",
    "```bash\n",
    "pip install wandb\n",
    "# Then login to your wandb account\n",
    "wandb login\n",
    "```\n",
    "\n",
    "Once, that is done, in TrainingArguments, set the `report_to` argument to `wandb`."
   ]
  },
  {
   "cell_type": "code",
   "execution_count": 19,
   "metadata": {},
   "outputs": [],
   "source": [
    "from transformers import Trainer\n",
    "\n",
    "trainer = Trainer(\n",
    "    model,\n",
    "    training_args,\n",
    "    # train_dataset=tokenized_datasets[\"train\"],\n",
    "    # eval_dataset=tokenized_datasets[\"validation\"],\n",
    "    train_dataset=train_data_subset, # Using the smaller subsets\n",
    "    eval_dataset=eval_data_subset,\n",
    "    data_collator=data_collator,\n",
    "    tokenizer=tokenizer,\n",
    "    compute_metrics=compute_metrics,\n",
    ")"
   ]
  },
  {
   "cell_type": "code",
   "execution_count": 20,
   "metadata": {},
   "outputs": [
    {
     "name": "stderr",
     "output_type": "stream",
     "text": [
      "/home/bsantra/miniconda3/envs/py38/lib/python3.8/site-packages/transformers/optimization.py:306: FutureWarning: This implementation of AdamW is deprecated and will be removed in a future version. Use the PyTorch implementation torch.optim.AdamW instead, or set `no_deprecation_warning=True` to disable this warning\n",
      "  warnings.warn(\n",
      "***** Running training *****\n",
      "  Num examples = 587214\n",
      "  Num Epochs = 10\n",
      "  Instantaneous batch size per device = 32\n",
      "  Total train batch size (w. parallel, distributed & accumulation) = 32\n",
      "  Gradient Accumulation steps = 1\n",
      "  Total optimization steps = 183510\n",
      "  Number of trainable parameters = 2676216\n",
      "Automatic Weights & Biases logging enabled, to disable set os.environ[\"WANDB_DISABLED\"] = \"true\"\n",
      "Failed to detect the name of this notebook, you can set it manually with the WANDB_NOTEBOOK_NAME environment variable to enable code saving.\n",
      "\u001b[34m\u001b[1mwandb\u001b[0m: Currently logged in as: \u001b[33mkgp-nlp\u001b[0m (use `wandb login --relogin` to force relogin)\n",
      "\u001b[34m\u001b[1mwandb\u001b[0m: wandb version 0.15.8 is available!  To upgrade, please run:\n",
      "\u001b[34m\u001b[1mwandb\u001b[0m:  $ pip install wandb --upgrade\n",
      "2023-08-25 12:45:45.361909: W tensorflow/compiler/tf2tensorrt/utils/py_utils.cc:38] TF-TRT Warning: Could not find TensorRT\n"
     ]
    },
    {
     "data": {
      "text/html": [
       "\n",
       "                Tracking run with wandb version 0.10.32<br/>\n",
       "                Syncing run <strong style=\"color:#cdcd00\">light-meadow-49</strong> to <a href=\"https://wandb.ai\" target=\"_blank\">Weights & Biases</a> <a href=\"https://docs.wandb.com/integrations/jupyter.html\" target=\"_blank\">(Documentation)</a>.<br/>\n",
       "                Project page: <a href=\"https://wandb.ai/kgp-nlp/huggingface\" target=\"_blank\">https://wandb.ai/kgp-nlp/huggingface</a><br/>\n",
       "                Run page: <a href=\"https://wandb.ai/kgp-nlp/huggingface/runs/1118u190\" target=\"_blank\">https://wandb.ai/kgp-nlp/huggingface/runs/1118u190</a><br/>\n",
       "                Run data is saved locally in <code>/home/bsantra/bishal/indoml-tutorial/wandb/run-20230825_124543-1118u190</code><br/><br/>\n",
       "            "
      ],
      "text/plain": [
       "<IPython.core.display.HTML object>"
      ]
     },
     "metadata": {},
     "output_type": "display_data"
    },
    {
     "name": "stderr",
     "output_type": "stream",
     "text": [
      "You're using a DistilBertTokenizerFast tokenizer. Please note that with a fast tokenizer, using the `__call__` method is faster than using a method to encode the text followed by a call to the `pad` method to get a padded encoding.\n"
     ]
    },
    {
     "data": {
      "text/html": [
       "\n",
       "    <div>\n",
       "      \n",
       "      <progress value='183510' max='183510' style='width:300px; height:20px; vertical-align: middle;'></progress>\n",
       "      [183510/183510 2:57:03, Epoch 10/10]\n",
       "    </div>\n",
       "    <table border=\"1\" class=\"dataframe\">\n",
       "  <thead>\n",
       " <tr style=\"text-align: left;\">\n",
       "      <th>Step</th>\n",
       "      <th>Training Loss</th>\n",
       "      <th>Validation Loss</th>\n",
       "      <th>Accuracy</th>\n",
       "    </tr>\n",
       "  </thead>\n",
       "  <tbody>\n",
       "    <tr>\n",
       "      <td>5000</td>\n",
       "      <td>2.872100</td>\n",
       "      <td>2.825798</td>\n",
       "      <td>0.269437</td>\n",
       "    </tr>\n",
       "    <tr>\n",
       "      <td>10000</td>\n",
       "      <td>2.647600</td>\n",
       "      <td>2.509979</td>\n",
       "      <td>0.341329</td>\n",
       "    </tr>\n",
       "    <tr>\n",
       "      <td>15000</td>\n",
       "      <td>2.361500</td>\n",
       "      <td>2.318371</td>\n",
       "      <td>0.389910</td>\n",
       "    </tr>\n",
       "    <tr>\n",
       "      <td>20000</td>\n",
       "      <td>2.338300</td>\n",
       "      <td>2.178634</td>\n",
       "      <td>0.421332</td>\n",
       "    </tr>\n",
       "    <tr>\n",
       "      <td>25000</td>\n",
       "      <td>2.034900</td>\n",
       "      <td>2.095860</td>\n",
       "      <td>0.445116</td>\n",
       "    </tr>\n",
       "    <tr>\n",
       "      <td>30000</td>\n",
       "      <td>2.066500</td>\n",
       "      <td>2.022863</td>\n",
       "      <td>0.461956</td>\n",
       "    </tr>\n",
       "    <tr>\n",
       "      <td>35000</td>\n",
       "      <td>2.242900</td>\n",
       "      <td>1.945200</td>\n",
       "      <td>0.485210</td>\n",
       "    </tr>\n",
       "    <tr>\n",
       "      <td>40000</td>\n",
       "      <td>1.819900</td>\n",
       "      <td>1.895621</td>\n",
       "      <td>0.497488</td>\n",
       "    </tr>\n",
       "    <tr>\n",
       "      <td>45000</td>\n",
       "      <td>1.976000</td>\n",
       "      <td>1.862018</td>\n",
       "      <td>0.508097</td>\n",
       "    </tr>\n",
       "    <tr>\n",
       "      <td>50000</td>\n",
       "      <td>1.998600</td>\n",
       "      <td>1.812141</td>\n",
       "      <td>0.521812</td>\n",
       "    </tr>\n",
       "    <tr>\n",
       "      <td>55000</td>\n",
       "      <td>1.720800</td>\n",
       "      <td>1.775372</td>\n",
       "      <td>0.529672</td>\n",
       "    </tr>\n",
       "    <tr>\n",
       "      <td>60000</td>\n",
       "      <td>1.841100</td>\n",
       "      <td>1.767907</td>\n",
       "      <td>0.535710</td>\n",
       "    </tr>\n",
       "    <tr>\n",
       "      <td>65000</td>\n",
       "      <td>1.837000</td>\n",
       "      <td>1.715269</td>\n",
       "      <td>0.546608</td>\n",
       "    </tr>\n",
       "    <tr>\n",
       "      <td>70000</td>\n",
       "      <td>1.902200</td>\n",
       "      <td>1.698016</td>\n",
       "      <td>0.553041</td>\n",
       "    </tr>\n",
       "    <tr>\n",
       "      <td>75000</td>\n",
       "      <td>1.616600</td>\n",
       "      <td>1.675017</td>\n",
       "      <td>0.560092</td>\n",
       "    </tr>\n",
       "    <tr>\n",
       "      <td>80000</td>\n",
       "      <td>1.782500</td>\n",
       "      <td>1.657569</td>\n",
       "      <td>0.565512</td>\n",
       "    </tr>\n",
       "    <tr>\n",
       "      <td>85000</td>\n",
       "      <td>1.762600</td>\n",
       "      <td>1.635095</td>\n",
       "      <td>0.572292</td>\n",
       "    </tr>\n",
       "    <tr>\n",
       "      <td>90000</td>\n",
       "      <td>1.550600</td>\n",
       "      <td>1.619766</td>\n",
       "      <td>0.575552</td>\n",
       "    </tr>\n",
       "    <tr>\n",
       "      <td>95000</td>\n",
       "      <td>1.693600</td>\n",
       "      <td>1.606709</td>\n",
       "      <td>0.580095</td>\n",
       "    </tr>\n",
       "    <tr>\n",
       "      <td>100000</td>\n",
       "      <td>1.519300</td>\n",
       "      <td>1.604879</td>\n",
       "      <td>0.580674</td>\n",
       "    </tr>\n",
       "    <tr>\n",
       "      <td>105000</td>\n",
       "      <td>1.709800</td>\n",
       "      <td>1.582787</td>\n",
       "      <td>0.586528</td>\n",
       "    </tr>\n",
       "    <tr>\n",
       "      <td>110000</td>\n",
       "      <td>1.589200</td>\n",
       "      <td>1.570957</td>\n",
       "      <td>0.590357</td>\n",
       "    </tr>\n",
       "    <tr>\n",
       "      <td>115000</td>\n",
       "      <td>1.471000</td>\n",
       "      <td>1.563234</td>\n",
       "      <td>0.593588</td>\n",
       "    </tr>\n",
       "    <tr>\n",
       "      <td>120000</td>\n",
       "      <td>1.649200</td>\n",
       "      <td>1.551591</td>\n",
       "      <td>0.596038</td>\n",
       "    </tr>\n",
       "    <tr>\n",
       "      <td>125000</td>\n",
       "      <td>1.535400</td>\n",
       "      <td>1.543264</td>\n",
       "      <td>0.596993</td>\n",
       "    </tr>\n",
       "    <tr>\n",
       "      <td>130000</td>\n",
       "      <td>1.573800</td>\n",
       "      <td>1.543167</td>\n",
       "      <td>0.598931</td>\n",
       "    </tr>\n",
       "    <tr>\n",
       "      <td>135000</td>\n",
       "      <td>1.563800</td>\n",
       "      <td>1.537551</td>\n",
       "      <td>0.598873</td>\n",
       "    </tr>\n",
       "    <tr>\n",
       "      <td>140000</td>\n",
       "      <td>1.439300</td>\n",
       "      <td>1.528975</td>\n",
       "      <td>0.602770</td>\n",
       "    </tr>\n",
       "    <tr>\n",
       "      <td>145000</td>\n",
       "      <td>1.517600</td>\n",
       "      <td>1.518924</td>\n",
       "      <td>0.603734</td>\n",
       "    </tr>\n",
       "    <tr>\n",
       "      <td>150000</td>\n",
       "      <td>1.417300</td>\n",
       "      <td>1.515331</td>\n",
       "      <td>0.606541</td>\n",
       "    </tr>\n",
       "    <tr>\n",
       "      <td>155000</td>\n",
       "      <td>1.481800</td>\n",
       "      <td>1.510467</td>\n",
       "      <td>0.608711</td>\n",
       "    </tr>\n",
       "    <tr>\n",
       "      <td>160000</td>\n",
       "      <td>1.430300</td>\n",
       "      <td>1.507604</td>\n",
       "      <td>0.607978</td>\n",
       "    </tr>\n",
       "    <tr>\n",
       "      <td>165000</td>\n",
       "      <td>1.540600</td>\n",
       "      <td>1.505963</td>\n",
       "      <td>0.608692</td>\n",
       "    </tr>\n",
       "    <tr>\n",
       "      <td>170000</td>\n",
       "      <td>1.579800</td>\n",
       "      <td>1.506212</td>\n",
       "      <td>0.610727</td>\n",
       "    </tr>\n",
       "    <tr>\n",
       "      <td>175000</td>\n",
       "      <td>1.621400</td>\n",
       "      <td>1.501929</td>\n",
       "      <td>0.610061</td>\n",
       "    </tr>\n",
       "    <tr>\n",
       "      <td>180000</td>\n",
       "      <td>1.344500</td>\n",
       "      <td>1.502142</td>\n",
       "      <td>0.610698</td>\n",
       "    </tr>\n",
       "  </tbody>\n",
       "</table><p>"
      ],
      "text/plain": [
       "<IPython.core.display.HTML object>"
      ]
     },
     "metadata": {},
     "output_type": "display_data"
    },
    {
     "name": "stderr",
     "output_type": "stream",
     "text": [
      "***** Running Evaluation *****\n",
      "  Num examples = 103683\n",
      "  Batch size = 32\n",
      "Saving model checkpoint to ./results/checkpoint-5000\n",
      "Trainer.model is not a `PreTrainedModel`, only saving its state dict.\n",
      "tokenizer config file saved in ./results/checkpoint-5000/tokenizer_config.json\n",
      "Special tokens file saved in ./results/checkpoint-5000/special_tokens_map.json\n",
      "***** Running Evaluation *****\n",
      "  Num examples = 103683\n",
      "  Batch size = 32\n",
      "Saving model checkpoint to ./results/checkpoint-10000\n",
      "Trainer.model is not a `PreTrainedModel`, only saving its state dict.\n",
      "tokenizer config file saved in ./results/checkpoint-10000/tokenizer_config.json\n",
      "Special tokens file saved in ./results/checkpoint-10000/special_tokens_map.json\n",
      "***** Running Evaluation *****\n",
      "  Num examples = 103683\n",
      "  Batch size = 32\n",
      "Saving model checkpoint to ./results/checkpoint-15000\n",
      "Trainer.model is not a `PreTrainedModel`, only saving its state dict.\n",
      "tokenizer config file saved in ./results/checkpoint-15000/tokenizer_config.json\n",
      "Special tokens file saved in ./results/checkpoint-15000/special_tokens_map.json\n",
      "***** Running Evaluation *****\n",
      "  Num examples = 103683\n",
      "  Batch size = 32\n",
      "Saving model checkpoint to ./results/checkpoint-20000\n",
      "Trainer.model is not a `PreTrainedModel`, only saving its state dict.\n",
      "tokenizer config file saved in ./results/checkpoint-20000/tokenizer_config.json\n",
      "Special tokens file saved in ./results/checkpoint-20000/special_tokens_map.json\n",
      "***** Running Evaluation *****\n",
      "  Num examples = 103683\n",
      "  Batch size = 32\n",
      "Saving model checkpoint to ./results/checkpoint-25000\n",
      "Trainer.model is not a `PreTrainedModel`, only saving its state dict.\n",
      "tokenizer config file saved in ./results/checkpoint-25000/tokenizer_config.json\n",
      "Special tokens file saved in ./results/checkpoint-25000/special_tokens_map.json\n",
      "***** Running Evaluation *****\n",
      "  Num examples = 103683\n",
      "  Batch size = 32\n",
      "Saving model checkpoint to ./results/checkpoint-30000\n",
      "Trainer.model is not a `PreTrainedModel`, only saving its state dict.\n",
      "tokenizer config file saved in ./results/checkpoint-30000/tokenizer_config.json\n",
      "Special tokens file saved in ./results/checkpoint-30000/special_tokens_map.json\n",
      "***** Running Evaluation *****\n",
      "  Num examples = 103683\n",
      "  Batch size = 32\n",
      "Saving model checkpoint to ./results/checkpoint-35000\n",
      "Trainer.model is not a `PreTrainedModel`, only saving its state dict.\n",
      "tokenizer config file saved in ./results/checkpoint-35000/tokenizer_config.json\n",
      "Special tokens file saved in ./results/checkpoint-35000/special_tokens_map.json\n",
      "***** Running Evaluation *****\n",
      "  Num examples = 103683\n",
      "  Batch size = 32\n",
      "Saving model checkpoint to ./results/checkpoint-40000\n",
      "Trainer.model is not a `PreTrainedModel`, only saving its state dict.\n",
      "tokenizer config file saved in ./results/checkpoint-40000/tokenizer_config.json\n",
      "Special tokens file saved in ./results/checkpoint-40000/special_tokens_map.json\n",
      "***** Running Evaluation *****\n",
      "  Num examples = 103683\n",
      "  Batch size = 32\n",
      "Saving model checkpoint to ./results/checkpoint-45000\n",
      "Trainer.model is not a `PreTrainedModel`, only saving its state dict.\n",
      "tokenizer config file saved in ./results/checkpoint-45000/tokenizer_config.json\n",
      "Special tokens file saved in ./results/checkpoint-45000/special_tokens_map.json\n",
      "***** Running Evaluation *****\n",
      "  Num examples = 103683\n",
      "  Batch size = 32\n",
      "Saving model checkpoint to ./results/checkpoint-50000\n",
      "Trainer.model is not a `PreTrainedModel`, only saving its state dict.\n",
      "tokenizer config file saved in ./results/checkpoint-50000/tokenizer_config.json\n",
      "Special tokens file saved in ./results/checkpoint-50000/special_tokens_map.json\n",
      "***** Running Evaluation *****\n",
      "  Num examples = 103683\n",
      "  Batch size = 32\n",
      "Saving model checkpoint to ./results/checkpoint-55000\n",
      "Trainer.model is not a `PreTrainedModel`, only saving its state dict.\n",
      "tokenizer config file saved in ./results/checkpoint-55000/tokenizer_config.json\n",
      "Special tokens file saved in ./results/checkpoint-55000/special_tokens_map.json\n",
      "***** Running Evaluation *****\n",
      "  Num examples = 103683\n",
      "  Batch size = 32\n",
      "Saving model checkpoint to ./results/checkpoint-60000\n",
      "Trainer.model is not a `PreTrainedModel`, only saving its state dict.\n",
      "tokenizer config file saved in ./results/checkpoint-60000/tokenizer_config.json\n",
      "Special tokens file saved in ./results/checkpoint-60000/special_tokens_map.json\n",
      "***** Running Evaluation *****\n",
      "  Num examples = 103683\n",
      "  Batch size = 32\n",
      "Saving model checkpoint to ./results/checkpoint-65000\n",
      "Trainer.model is not a `PreTrainedModel`, only saving its state dict.\n",
      "tokenizer config file saved in ./results/checkpoint-65000/tokenizer_config.json\n",
      "Special tokens file saved in ./results/checkpoint-65000/special_tokens_map.json\n",
      "***** Running Evaluation *****\n",
      "  Num examples = 103683\n",
      "  Batch size = 32\n",
      "Saving model checkpoint to ./results/checkpoint-70000\n",
      "Trainer.model is not a `PreTrainedModel`, only saving its state dict.\n",
      "tokenizer config file saved in ./results/checkpoint-70000/tokenizer_config.json\n",
      "Special tokens file saved in ./results/checkpoint-70000/special_tokens_map.json\n",
      "***** Running Evaluation *****\n",
      "  Num examples = 103683\n",
      "  Batch size = 32\n",
      "Saving model checkpoint to ./results/checkpoint-75000\n",
      "Trainer.model is not a `PreTrainedModel`, only saving its state dict.\n",
      "tokenizer config file saved in ./results/checkpoint-75000/tokenizer_config.json\n",
      "Special tokens file saved in ./results/checkpoint-75000/special_tokens_map.json\n",
      "***** Running Evaluation *****\n",
      "  Num examples = 103683\n",
      "  Batch size = 32\n",
      "Saving model checkpoint to ./results/checkpoint-80000\n",
      "Trainer.model is not a `PreTrainedModel`, only saving its state dict.\n",
      "tokenizer config file saved in ./results/checkpoint-80000/tokenizer_config.json\n",
      "Special tokens file saved in ./results/checkpoint-80000/special_tokens_map.json\n",
      "***** Running Evaluation *****\n",
      "  Num examples = 103683\n",
      "  Batch size = 32\n",
      "Saving model checkpoint to ./results/checkpoint-85000\n",
      "Trainer.model is not a `PreTrainedModel`, only saving its state dict.\n",
      "tokenizer config file saved in ./results/checkpoint-85000/tokenizer_config.json\n",
      "Special tokens file saved in ./results/checkpoint-85000/special_tokens_map.json\n",
      "***** Running Evaluation *****\n",
      "  Num examples = 103683\n",
      "  Batch size = 32\n",
      "Saving model checkpoint to ./results/checkpoint-90000\n",
      "Trainer.model is not a `PreTrainedModel`, only saving its state dict.\n",
      "tokenizer config file saved in ./results/checkpoint-90000/tokenizer_config.json\n",
      "Special tokens file saved in ./results/checkpoint-90000/special_tokens_map.json\n",
      "***** Running Evaluation *****\n",
      "  Num examples = 103683\n",
      "  Batch size = 32\n",
      "Saving model checkpoint to ./results/checkpoint-95000\n",
      "Trainer.model is not a `PreTrainedModel`, only saving its state dict.\n",
      "tokenizer config file saved in ./results/checkpoint-95000/tokenizer_config.json\n",
      "Special tokens file saved in ./results/checkpoint-95000/special_tokens_map.json\n",
      "***** Running Evaluation *****\n",
      "  Num examples = 103683\n",
      "  Batch size = 32\n",
      "Saving model checkpoint to ./results/checkpoint-100000\n",
      "Trainer.model is not a `PreTrainedModel`, only saving its state dict.\n",
      "tokenizer config file saved in ./results/checkpoint-100000/tokenizer_config.json\n",
      "Special tokens file saved in ./results/checkpoint-100000/special_tokens_map.json\n",
      "***** Running Evaluation *****\n",
      "  Num examples = 103683\n",
      "  Batch size = 32\n",
      "Saving model checkpoint to ./results/checkpoint-105000\n",
      "Trainer.model is not a `PreTrainedModel`, only saving its state dict.\n",
      "tokenizer config file saved in ./results/checkpoint-105000/tokenizer_config.json\n",
      "Special tokens file saved in ./results/checkpoint-105000/special_tokens_map.json\n",
      "***** Running Evaluation *****\n",
      "  Num examples = 103683\n",
      "  Batch size = 32\n",
      "Saving model checkpoint to ./results/checkpoint-110000\n",
      "Trainer.model is not a `PreTrainedModel`, only saving its state dict.\n",
      "tokenizer config file saved in ./results/checkpoint-110000/tokenizer_config.json\n",
      "Special tokens file saved in ./results/checkpoint-110000/special_tokens_map.json\n",
      "***** Running Evaluation *****\n",
      "  Num examples = 103683\n",
      "  Batch size = 32\n",
      "Saving model checkpoint to ./results/checkpoint-115000\n",
      "Trainer.model is not a `PreTrainedModel`, only saving its state dict.\n",
      "tokenizer config file saved in ./results/checkpoint-115000/tokenizer_config.json\n",
      "Special tokens file saved in ./results/checkpoint-115000/special_tokens_map.json\n",
      "***** Running Evaluation *****\n",
      "  Num examples = 103683\n",
      "  Batch size = 32\n",
      "Saving model checkpoint to ./results/checkpoint-120000\n",
      "Trainer.model is not a `PreTrainedModel`, only saving its state dict.\n",
      "tokenizer config file saved in ./results/checkpoint-120000/tokenizer_config.json\n",
      "Special tokens file saved in ./results/checkpoint-120000/special_tokens_map.json\n",
      "***** Running Evaluation *****\n",
      "  Num examples = 103683\n",
      "  Batch size = 32\n",
      "Saving model checkpoint to ./results/checkpoint-125000\n",
      "Trainer.model is not a `PreTrainedModel`, only saving its state dict.\n",
      "tokenizer config file saved in ./results/checkpoint-125000/tokenizer_config.json\n",
      "Special tokens file saved in ./results/checkpoint-125000/special_tokens_map.json\n",
      "***** Running Evaluation *****\n",
      "  Num examples = 103683\n",
      "  Batch size = 32\n",
      "Saving model checkpoint to ./results/checkpoint-130000\n",
      "Trainer.model is not a `PreTrainedModel`, only saving its state dict.\n",
      "tokenizer config file saved in ./results/checkpoint-130000/tokenizer_config.json\n",
      "Special tokens file saved in ./results/checkpoint-130000/special_tokens_map.json\n",
      "***** Running Evaluation *****\n",
      "  Num examples = 103683\n",
      "  Batch size = 32\n",
      "Saving model checkpoint to ./results/checkpoint-135000\n",
      "Trainer.model is not a `PreTrainedModel`, only saving its state dict.\n",
      "tokenizer config file saved in ./results/checkpoint-135000/tokenizer_config.json\n",
      "Special tokens file saved in ./results/checkpoint-135000/special_tokens_map.json\n",
      "***** Running Evaluation *****\n",
      "  Num examples = 103683\n",
      "  Batch size = 32\n",
      "Saving model checkpoint to ./results/checkpoint-140000\n",
      "Trainer.model is not a `PreTrainedModel`, only saving its state dict.\n",
      "tokenizer config file saved in ./results/checkpoint-140000/tokenizer_config.json\n",
      "Special tokens file saved in ./results/checkpoint-140000/special_tokens_map.json\n",
      "***** Running Evaluation *****\n",
      "  Num examples = 103683\n",
      "  Batch size = 32\n",
      "Saving model checkpoint to ./results/checkpoint-145000\n",
      "Trainer.model is not a `PreTrainedModel`, only saving its state dict.\n",
      "tokenizer config file saved in ./results/checkpoint-145000/tokenizer_config.json\n",
      "Special tokens file saved in ./results/checkpoint-145000/special_tokens_map.json\n",
      "***** Running Evaluation *****\n",
      "  Num examples = 103683\n",
      "  Batch size = 32\n",
      "Saving model checkpoint to ./results/checkpoint-150000\n",
      "Trainer.model is not a `PreTrainedModel`, only saving its state dict.\n",
      "tokenizer config file saved in ./results/checkpoint-150000/tokenizer_config.json\n",
      "Special tokens file saved in ./results/checkpoint-150000/special_tokens_map.json\n",
      "***** Running Evaluation *****\n",
      "  Num examples = 103683\n",
      "  Batch size = 32\n",
      "Saving model checkpoint to ./results/checkpoint-155000\n",
      "Trainer.model is not a `PreTrainedModel`, only saving its state dict.\n",
      "tokenizer config file saved in ./results/checkpoint-155000/tokenizer_config.json\n",
      "Special tokens file saved in ./results/checkpoint-155000/special_tokens_map.json\n",
      "***** Running Evaluation *****\n",
      "  Num examples = 103683\n",
      "  Batch size = 32\n",
      "Saving model checkpoint to ./results/checkpoint-160000\n",
      "Trainer.model is not a `PreTrainedModel`, only saving its state dict.\n",
      "tokenizer config file saved in ./results/checkpoint-160000/tokenizer_config.json\n",
      "Special tokens file saved in ./results/checkpoint-160000/special_tokens_map.json\n",
      "***** Running Evaluation *****\n",
      "  Num examples = 103683\n",
      "  Batch size = 32\n",
      "Saving model checkpoint to ./results/checkpoint-165000\n",
      "Trainer.model is not a `PreTrainedModel`, only saving its state dict.\n",
      "tokenizer config file saved in ./results/checkpoint-165000/tokenizer_config.json\n",
      "Special tokens file saved in ./results/checkpoint-165000/special_tokens_map.json\n",
      "***** Running Evaluation *****\n",
      "  Num examples = 103683\n",
      "  Batch size = 32\n",
      "Saving model checkpoint to ./results/checkpoint-170000\n",
      "Trainer.model is not a `PreTrainedModel`, only saving its state dict.\n",
      "tokenizer config file saved in ./results/checkpoint-170000/tokenizer_config.json\n",
      "Special tokens file saved in ./results/checkpoint-170000/special_tokens_map.json\n",
      "***** Running Evaluation *****\n",
      "  Num examples = 103683\n",
      "  Batch size = 32\n",
      "Saving model checkpoint to ./results/checkpoint-175000\n",
      "Trainer.model is not a `PreTrainedModel`, only saving its state dict.\n",
      "tokenizer config file saved in ./results/checkpoint-175000/tokenizer_config.json\n",
      "Special tokens file saved in ./results/checkpoint-175000/special_tokens_map.json\n",
      "***** Running Evaluation *****\n",
      "  Num examples = 103683\n",
      "  Batch size = 32\n",
      "Saving model checkpoint to ./results/checkpoint-180000\n",
      "Trainer.model is not a `PreTrainedModel`, only saving its state dict.\n",
      "tokenizer config file saved in ./results/checkpoint-180000/tokenizer_config.json\n",
      "Special tokens file saved in ./results/checkpoint-180000/special_tokens_map.json\n",
      "\n",
      "\n",
      "Training completed. Do not forget to share your model on huggingface.co/models =)\n",
      "\n",
      "\n",
      "Loading best model from ./results/checkpoint-170000 (score: 0.610726927268694).\n"
     ]
    }
   ],
   "source": [
    "stats = trainer.train()"
   ]
  },
  {
   "cell_type": "code",
   "execution_count": 49,
   "metadata": {},
   "outputs": [],
   "source": [
    "trainer.compute_metrics = compute_metrics"
   ]
  },
  {
   "cell_type": "code",
   "execution_count": 50,
   "metadata": {},
   "outputs": [
    {
     "name": "stderr",
     "output_type": "stream",
     "text": [
      "***** Running Evaluation *****\n",
      "  Num examples = 103683\n",
      "  Batch size = 32\n"
     ]
    },
    {
     "name": "stdout",
     "output_type": "stream",
     "text": [
      "Predictions:  [40 31  1 ... 50 13 13]\n",
      "Labels:  [40 31 31 ... 33 44 17]\n",
      "{'epoch': 10.0,\n",
      " 'eval_accuracy': {'accuracy': 0.610726927268694},\n",
      " 'eval_loss': 1.5062118768692017,\n",
      " 'eval_macro_f1': {'f1': 0.5647782620578362},\n",
      " 'eval_micro_f1': {'f1': 0.610726927268694},\n",
      " 'eval_runtime': 45.0682,\n",
      " 'eval_samples_per_second': 2300.58,\n",
      " 'eval_steps_per_second': 71.913}\n"
     ]
    }
   ],
   "source": [
    "# Print Stats\n",
    "from pprint import pprint\n",
    "pprint(trainer.evaluate())"
   ]
  },
  {
   "cell_type": "code",
   "execution_count": null,
   "metadata": {},
   "outputs": [],
   "source": []
  }
 ],
 "metadata": {
  "kernelspec": {
   "display_name": "base",
   "language": "python",
   "name": "python3"
  },
  "language_info": {
   "codemirror_mode": {
    "name": "ipython",
    "version": 3
   },
   "file_extension": ".py",
   "mimetype": "text/x-python",
   "name": "python",
   "nbconvert_exporter": "python",
   "pygments_lexer": "ipython3",
   "version": "3.8.13"
  },
  "orig_nbformat": 4
 },
 "nbformat": 4,
 "nbformat_minor": 2
}
